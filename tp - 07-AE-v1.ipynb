{
 "cells": [
  {
   "cell_type": "markdown",
   "metadata": {},
   "source": [
    "AutoEncoder"
   ]
  },
  {
   "cell_type": "code",
   "execution_count": 1,
   "metadata": {},
   "outputs": [],
   "source": [
    "#from IPython.display import Image\n",
    "#Image(filename='ae.png')"
   ]
  },
  {
   "cell_type": "code",
   "execution_count": 2,
   "metadata": {},
   "outputs": [],
   "source": [
    "# =========================================================================\n",
    "# Date : 29 nov. 2018\n",
    "# MS Valdom > apprenants > omar attaf, laurent lapasset, didier le picaut\n",
    "# Version = 1.0\n",
    "# ========================================================================="
   ]
  },
  {
   "cell_type": "raw",
   "metadata": {},
   "source": [
    "# == EXECUTIVE SUMMARY: \n",
    ".dataset mnist = train = 60 000 images 28x28 + test = 10 000 images 28 x 28\n",
    ".bien régler la taille du batch selon puissance GPU\n",
    ".avec 200 Epochs, en test, loss criteria = 63.6% - 5mn de temps traitment\n",
    ".modele rx neurones : 2 couches fully connected + 1 ReLU"
   ]
  },
  {
   "cell_type": "code",
   "execution_count": 3,
   "metadata": {},
   "outputs": [],
   "source": [
    "# Syllabus - auto encoder (AE)\n",
    "# http://www.xavierdupre.fr/app/ensae_teaching_dl/helpsphinx//chapters/deep_apprentissage_sans_labels.html"
   ]
  },
  {
   "cell_type": "raw",
   "metadata": {},
   "source": [
    "# https://reyhaneaskari.github.io/AE.html\n",
    "# -------------------------------------------\n",
    "- Les encodeurs automatiques sont l’un des modèles d’apprentissage en profondeur \n",
    "non supervisé.\n",
    "- L'objectif d'un encodeur automatique est la réduction de la dimensionnalité \n",
    "et la découverte des fonctionnalités.\n",
    "- Un encodeur automatique est formé pour prévoir sa propre entrée, \n",
    "mais pour empêcher le modèle d’apprendre le mappage d’identité, \n",
    "certaines contraintes sont appliquées aux unités cachées."
   ]
  },
  {
   "cell_type": "raw",
   "metadata": {},
   "source": [
    "# https://vxlabs.com/2017/12/08/variational-autoencoder-in-pytorch-commented-and-annotated/# \n",
    "# ----------------------------------\n",
    "Qu'est-ce qu'un autoencoder?\n",
    "L’idée générale de l’auto-encodeur (AE) est de faire passer les informations par un étroit goulet d’étranglement entre les parties encodeur (entrée) et décodeur (sortie) en miroir d’un réseau de neurones. (voir le schéma ci-dessous)\n",
    "\n",
    "Etant donné que l'architecture et la fonction de perte du réseau sont configurées de manière à ce que la sortie tente d'émuler l'entrée, le réseau doit apprendre à coder les données d'entrée sur l'espace très limité représenté par le goulot d'étranglement."
   ]
  },
  {
   "cell_type": "code",
   "execution_count": 4,
   "metadata": {},
   "outputs": [],
   "source": [
    "# =================\n",
    "# autocompletion\n",
    "# =================\n",
    "%config IPCompleter.greedy=True"
   ]
  },
  {
   "cell_type": "code",
   "execution_count": 5,
   "metadata": {},
   "outputs": [],
   "source": [
    "# importer les libraries\n",
    "from __future__ import print_function\n",
    "import argparse\n",
    "\n",
    "import torch\n",
    "import torch.utils.data\n",
    "from torch import nn, optim\n",
    "from torch.nn import functional as F\n",
    "from torchvision import datasets, transforms\n",
    "from torchvision.utils import save_image\n",
    "import matplotlib.pyplot as plt"
   ]
  },
  {
   "cell_type": "code",
   "execution_count": 6,
   "metadata": {},
   "outputs": [],
   "source": [
    "#== mise en place d un compteur de temps pour voir le temps de convergence du Rx neurones [trop  ou pas ?]\n",
    "# Debut du decompte du temps\n",
    "import time\n",
    "start_time = time.time()"
   ]
  },
  {
   "cell_type": "code",
   "execution_count": 7,
   "metadata": {},
   "outputs": [
    {
     "data": {
      "text/plain": [
       "True"
      ]
     },
     "execution_count": 7,
     "metadata": {},
     "output_type": "execute_result"
    }
   ],
   "source": [
    "#== sanity check : library cuda est-elle presente ?\n",
    "torch.cuda.is_available()"
   ]
  },
  {
   "cell_type": "code",
   "execution_count": 8,
   "metadata": {},
   "outputs": [
    {
     "data": {
      "text/plain": [
       "True"
      ]
     },
     "execution_count": 8,
     "metadata": {},
     "output_type": "execute_result"
    }
   ],
   "source": [
    "#== sanity check : presence du framework cudnn ?\n",
    "torch.backends.cudnn.enabled"
   ]
  },
  {
   "cell_type": "code",
   "execution_count": 9,
   "metadata": {},
   "outputs": [
    {
     "data": {
      "text/plain": [
       "<torch._C.Generator at 0x7ffb74749f90>"
      ]
     },
     "execution_count": 9,
     "metadata": {},
     "output_type": "execute_result"
    }
   ],
   "source": [
    "# reproductible\n",
    "SEED = 1\n",
    "torch.manual_seed(SEED)"
   ]
  },
  {
   "cell_type": "code",
   "execution_count": 10,
   "metadata": {},
   "outputs": [],
   "source": [
    "batchsize = 128\n",
    "\n",
    "#epochs=10\n",
    "epochs=200\n",
    "\n",
    "loginterval=10\n",
    "cuda = torch.cuda.is_available()"
   ]
  },
  {
   "cell_type": "code",
   "execution_count": 11,
   "metadata": {},
   "outputs": [
    {
     "data": {
      "text/plain": [
       "device(type='cuda')"
      ]
     },
     "execution_count": 11,
     "metadata": {},
     "output_type": "execute_result"
    }
   ],
   "source": [
    "device = torch.device(\"cuda\" if cuda else \"cpu\")\n",
    "device"
   ]
  },
  {
   "cell_type": "code",
   "execution_count": 12,
   "metadata": {},
   "outputs": [],
   "source": [
    "#== data chargement > dataset train + dataset test\n",
    "# Téléchargez ou chargez le jeu de données MNIST téléchargé \n",
    "# mélangez les données à chaque époque \n",
    "\n",
    "\n",
    "# Les instances de DataLoader chargeront les tenseurs directement dans la mémoire du GPU \n",
    "\n",
    "kwargs = {'num_workers': 11, 'pin_memory': True} if cuda else {}\n",
    "\n",
    "# dataset train\n",
    "\n",
    "train_loader = torch.utils.data.DataLoader(\n",
    "    datasets.MNIST('../data', train=True, download=True,\n",
    "                   transform=transforms.ToTensor()),\n",
    "    batch_size=batchsize, shuffle=True, **kwargs)\n",
    "\n",
    "# dataset test\n",
    "\n",
    "test_loader = torch.utils.data.DataLoader(\n",
    "    datasets.MNIST('../data', train=False, transform=transforms.ToTensor()),\n",
    "    batch_size=batchsize, shuffle=True, **kwargs)"
   ]
  },
  {
   "cell_type": "code",
   "execution_count": 13,
   "metadata": {},
   "outputs": [
    {
     "data": {
      "text/plain": [
       "60000"
      ]
     },
     "execution_count": 13,
     "metadata": {},
     "output_type": "execute_result"
    }
   ],
   "source": [
    "len(train_loader.dataset)"
   ]
  },
  {
   "cell_type": "code",
   "execution_count": 14,
   "metadata": {},
   "outputs": [
    {
     "data": {
      "text/plain": [
       "10000"
      ]
     },
     "execution_count": 14,
     "metadata": {},
     "output_type": "execute_result"
    }
   ],
   "source": [
    "len(test_loader.dataset)"
   ]
  },
  {
   "cell_type": "code",
   "execution_count": 15,
   "metadata": {},
   "outputs": [],
   "source": [
    "#== transform=transforms.ToTensor()) ?\n",
    "\n",
    "# Convertit une image PIL ou numpy.ndarray (H x L x C) \n",
    "# comprise dans l'intervalle [0, 255] en une torche.\n",
    "# Tensoriseur de forme (C x H x W) compris dans l'intervalle [0.0, 1.0].\n"
   ]
  },
  {
   "cell_type": "code",
   "execution_count": null,
   "metadata": {},
   "outputs": [],
   "source": []
  },
  {
   "cell_type": "code",
   "execution_count": 16,
   "metadata": {},
   "outputs": [],
   "source": [
    "#== creation du modele\n",
    "\n",
    "class AE(nn.Module):\n",
    "    def __init__(self):\n",
    "        super(AE, self).__init__()\n",
    "        \n",
    "# ENCODEUR \n",
    "# 28 x 28 pixels = 784 pixels en entrée, 400 sorties\n",
    "# couche unitaire linéaire rectifiée de 400 à 400 \n",
    "\n",
    "        self.encoder = nn.Sequential(\n",
    "            nn.Linear(784, 400),\n",
    "            nn.ReLU(),\n",
    "            nn.Linear(400,20) # espace latent = couche cachee\n",
    "            )\n",
    "\n",
    "# DECODEUR \n",
    "# de goulot d' étranglement à 400 caché\n",
    "# on fait le travail autre-sens\n",
    "    \n",
    "        self.decoder = nn.Sequential(\n",
    "            nn.Linear(20,400),\n",
    "            nn.ReLU(),\n",
    "            nn.Linear(400,784),\n",
    "            )\n",
    "\n",
    "        # create using nn.Sequential()\n",
    "        # encoder :FullyConnected (784 -> 400), RELU activation; FC (400, 20)\n",
    "        # decoder :FullyConnected (20 -> 400), RELU activation; FC (400, 784)\n",
    "        \n",
    "\n",
    "    def encode(self, x):\n",
    "        return self.encoder(x)\n",
    "\n",
    "    def decode(self, z):\n",
    "        return torch.sigmoid(self.decoder(z))\n",
    "\n",
    "    def forward(self, x):\n",
    "        xview = x.view((-1, 784))\n",
    "        z = self.encode(xview)\n",
    "        return self.decode(z)\n",
    "\n",
    "model = AE().to(device)\n",
    "optimizer = optim.Adam(model.parameters(), lr=1e-3)"
   ]
  },
  {
   "cell_type": "code",
   "execution_count": 17,
   "metadata": {},
   "outputs": [],
   "source": [
    "# https://docs.scipy.org/doc/numpy-1.13.0/reference/generated/numpy.ndarray.view.html\n",
    "# otimizer utilise = adam"
   ]
  },
  {
   "cell_type": "code",
   "execution_count": 18,
   "metadata": {},
   "outputs": [],
   "source": [
    "def loss_function(recon_batch, x):\n",
    "    \n",
    "    # compute bce as the binary cross entropy across the batch as a sum\n",
    "    # L'entrée est binarisée et Binary Cross Entropy a été utilisé comme fonction de perte.\n",
    "    # dans quelle mesure l'entrée x et la sortie recon_x sont-elles d'accord?\n",
    "    \n",
    "    loss = torch.nn.BCELoss(reduction='sum')\n",
    "    return loss(recon_batch, x)"
   ]
  },
  {
   "cell_type": "code",
   "execution_count": 19,
   "metadata": {},
   "outputs": [],
   "source": [
    "losses = []\n",
    "\n",
    "def train(epoch):\n",
    "    model.train()\n",
    "    train_loss = 0\n",
    "    \n",
    "    for batch_idx, (data, _) in enumerate(train_loader):\n",
    "        data = data.to(device)\n",
    "        optimizer.zero_grad()\n",
    "        recon_batch = model(data)\n",
    "        loss = loss_function(recon_batch, data.view(-1,784))\n",
    "        losses.append(loss.cpu().item())\n",
    "        loss.backward()\n",
    "        train_loss += loss.item()\n",
    "        optimizer.step()\n",
    "        if batch_idx % loginterval == 0:\n",
    "            print('\\r Train Epoch: {} [{}/{} ({:.0f}%)]\\tLoss: {:.1f}'.format(\n",
    "                epoch, batch_idx * len(data), len(train_loader.dataset),\n",
    "                100. * batch_idx / len(train_loader),\n",
    "                loss.item() / len(data)), end='')\n",
    "\n",
    "    print(' Average loss: {:.1f}'.format(\n",
    "          train_loss / len(train_loader.dataset)), end='')"
   ]
  },
  {
   "cell_type": "code",
   "execution_count": 20,
   "metadata": {},
   "outputs": [],
   "source": [
    "def test(epoch):\n",
    "    model.eval()\n",
    "    test_loss = 0\n",
    "    \n",
    "    with torch.no_grad():\n",
    "        for i, (data, _) in enumerate(test_loader):\n",
    "            data = data.to(device)\n",
    "            recon_batch = model(data)\n",
    "            test_loss += loss_function(recon_batch, data.view(-1, 784))\n",
    "\n",
    "            if i == 0:\n",
    "                n = min(data.size(0), 8)\n",
    "                comparison = torch.cat([data[:n],\n",
    "                                      recon_batch.view(batchsize, 1, 28, 28)[:n]])\n",
    "                save_image(comparison.cpu(),\n",
    "                         'results/reconstruction_' + str(epoch) + '.png', nrow=n)\n",
    "\n",
    "    test_loss /= len(test_loader.dataset)\n",
    "    print(' Test loss: {:.1f}'.format(test_loss))"
   ]
  },
  {
   "cell_type": "code",
   "execution_count": 21,
   "metadata": {},
   "outputs": [],
   "source": [
    "# results/reconstruction = les images sont reconstruites et images stockees ds le fichier "
   ]
  },
  {
   "cell_type": "code",
   "execution_count": 22,
   "metadata": {
    "scrolled": true
   },
   "outputs": [
    {
     "name": "stdout",
     "output_type": "stream",
     "text": [
      " Train Epoch: 1 [58880/60000 (98%)]\tLoss: 90.7 Average loss: 132.0 Test loss: 89.0\n",
      " Train Epoch: 2 [58880/60000 (98%)]\tLoss: 84.4 Average loss: 83.4 Test loss: 78.1\n",
      " Train Epoch: 3 [58880/60000 (98%)]\tLoss: 76.9 Average loss: 77.0 Test loss: 74.5\n",
      " Train Epoch: 4 [58880/60000 (98%)]\tLoss: 76.2 Average loss: 74.2 Test loss: 72.6\n",
      " Train Epoch: 5 [58880/60000 (98%)]\tLoss: 73.3 Average loss: 72.4 Test loss: 71.4\n",
      " Train Epoch: 6 [58880/60000 (98%)]\tLoss: 69.6 Average loss: 71.1 Test loss: 70.2\n",
      " Train Epoch: 7 [58880/60000 (98%)]\tLoss: 69.8 Average loss: 70.2 Test loss: 69.4\n",
      " Train Epoch: 8 [58880/60000 (98%)]\tLoss: 71.2 Average loss: 69.4 Test loss: 68.8\n",
      " Train Epoch: 9 [58880/60000 (98%)]\tLoss: 68.4 Average loss: 68.8 Test loss: 68.5\n",
      " Train Epoch: 10 [58880/60000 (98%)]\tLoss: 69.2 Average loss: 68.3 Test loss: 68.1\n",
      " Train Epoch: 11 [58880/60000 (98%)]\tLoss: 67.3 Average loss: 67.8 Test loss: 67.7\n",
      " Train Epoch: 12 [58880/60000 (98%)]\tLoss: 69.2 Average loss: 67.4 Test loss: 67.3\n",
      " Train Epoch: 13 [58880/60000 (98%)]\tLoss: 66.8 Average loss: 67.1 Test loss: 67.1\n",
      " Train Epoch: 14 [58880/60000 (98%)]\tLoss: 64.8 Average loss: 66.8 Test loss: 66.9\n",
      " Train Epoch: 15 [58880/60000 (98%)]\tLoss: 64.3 Average loss: 66.5 Test loss: 66.6\n",
      " Train Epoch: 16 [58880/60000 (98%)]\tLoss: 66.8 Average loss: 66.3 Test loss: 66.3\n",
      " Train Epoch: 17 [58880/60000 (98%)]\tLoss: 66.6 Average loss: 66.1 Test loss: 66.3\n",
      " Train Epoch: 18 [58880/60000 (98%)]\tLoss: 67.8 Average loss: 65.9 Test loss: 66.1\n",
      " Train Epoch: 19 [58880/60000 (98%)]\tLoss: 64.0 Average loss: 65.7 Test loss: 66.0\n",
      " Train Epoch: 20 [58880/60000 (98%)]\tLoss: 64.6 Average loss: 65.5 Test loss: 65.8\n",
      " Train Epoch: 21 [58880/60000 (98%)]\tLoss: 64.3 Average loss: 65.4 Test loss: 65.7\n",
      " Train Epoch: 22 [58880/60000 (98%)]\tLoss: 65.9 Average loss: 65.2 Test loss: 65.6\n",
      " Train Epoch: 23 [58880/60000 (98%)]\tLoss: 64.0 Average loss: 65.1 Test loss: 65.5\n",
      " Train Epoch: 24 [58880/60000 (98%)]\tLoss: 64.9 Average loss: 65.0 Test loss: 65.5\n",
      " Train Epoch: 25 [58880/60000 (98%)]\tLoss: 65.8 Average loss: 64.8 Test loss: 65.4\n",
      " Train Epoch: 26 [58880/60000 (98%)]\tLoss: 64.7 Average loss: 64.8 Test loss: 65.3\n",
      " Train Epoch: 27 [58880/60000 (98%)]\tLoss: 65.1 Average loss: 64.6 Test loss: 65.4\n",
      " Train Epoch: 28 [58880/60000 (98%)]\tLoss: 64.2 Average loss: 64.6 Test loss: 65.1\n",
      " Train Epoch: 29 [58880/60000 (98%)]\tLoss: 61.5 Average loss: 64.5 Test loss: 65.0\n",
      " Train Epoch: 30 [58880/60000 (98%)]\tLoss: 65.2 Average loss: 64.4 Test loss: 65.1\n",
      " Train Epoch: 31 [58880/60000 (98%)]\tLoss: 63.5 Average loss: 64.3 Test loss: 65.0\n",
      " Train Epoch: 32 [58880/60000 (98%)]\tLoss: 63.7 Average loss: 64.2 Test loss: 65.0\n",
      " Train Epoch: 33 [58880/60000 (98%)]\tLoss: 64.8 Average loss: 64.2 Test loss: 64.9\n",
      " Train Epoch: 34 [58880/60000 (98%)]\tLoss: 65.7 Average loss: 64.1 Test loss: 64.8\n",
      " Train Epoch: 35 [58880/60000 (98%)]\tLoss: 60.8 Average loss: 64.0 Test loss: 64.9\n",
      " Train Epoch: 36 [58880/60000 (98%)]\tLoss: 66.6 Average loss: 64.0 Test loss: 64.9\n",
      " Train Epoch: 37 [58880/60000 (98%)]\tLoss: 59.2 Average loss: 63.9 Test loss: 64.7\n",
      " Train Epoch: 38 [58880/60000 (98%)]\tLoss: 63.0 Average loss: 63.8 Test loss: 64.7\n",
      " Train Epoch: 39 [58880/60000 (98%)]\tLoss: 63.7 Average loss: 63.8 Test loss: 64.6\n",
      " Train Epoch: 40 [58880/60000 (98%)]\tLoss: 65.4 Average loss: 63.7 Test loss: 64.5\n",
      " Train Epoch: 41 [58880/60000 (98%)]\tLoss: 62.6 Average loss: 63.7 Test loss: 64.6\n",
      " Train Epoch: 42 [58880/60000 (98%)]\tLoss: 64.5 Average loss: 63.6 Test loss: 64.5\n",
      " Train Epoch: 43 [58880/60000 (98%)]\tLoss: 64.2 Average loss: 63.6 Test loss: 64.5\n",
      " Train Epoch: 44 [58880/60000 (98%)]\tLoss: 60.8 Average loss: 63.6 Test loss: 64.4\n",
      " Train Epoch: 45 [58880/60000 (98%)]\tLoss: 64.7 Average loss: 63.5 Test loss: 64.5\n",
      " Train Epoch: 46 [58880/60000 (98%)]\tLoss: 65.5 Average loss: 63.5 Test loss: 64.4\n",
      " Train Epoch: 47 [58880/60000 (98%)]\tLoss: 64.3 Average loss: 63.4 Test loss: 64.5\n",
      " Train Epoch: 48 [58880/60000 (98%)]\tLoss: 63.3 Average loss: 63.4 Test loss: 64.5\n",
      " Train Epoch: 49 [58880/60000 (98%)]\tLoss: 64.3 Average loss: 63.4 Test loss: 64.3\n",
      " Train Epoch: 50 [58880/60000 (98%)]\tLoss: 61.6 Average loss: 63.3 Test loss: 64.3\n",
      " Train Epoch: 51 [58880/60000 (98%)]\tLoss: 63.0 Average loss: 63.3 Test loss: 64.3\n",
      " Train Epoch: 52 [58880/60000 (98%)]\tLoss: 61.2 Average loss: 63.2 Test loss: 64.3\n",
      " Train Epoch: 53 [58880/60000 (98%)]\tLoss: 61.4 Average loss: 63.2 Test loss: 64.2\n",
      " Train Epoch: 54 [58880/60000 (98%)]\tLoss: 63.1 Average loss: 63.2 Test loss: 64.2\n",
      " Train Epoch: 55 [58880/60000 (98%)]\tLoss: 64.1 Average loss: 63.2 Test loss: 64.2\n",
      " Train Epoch: 56 [58880/60000 (98%)]\tLoss: 63.1 Average loss: 63.1 Test loss: 64.3\n",
      " Train Epoch: 57 [58880/60000 (98%)]\tLoss: 62.7 Average loss: 63.1 Test loss: 64.2\n",
      " Train Epoch: 58 [58880/60000 (98%)]\tLoss: 65.8 Average loss: 63.0 Test loss: 64.2\n",
      " Train Epoch: 59 [58880/60000 (98%)]\tLoss: 63.2 Average loss: 63.0 Test loss: 64.3\n",
      " Train Epoch: 60 [58880/60000 (98%)]\tLoss: 61.9 Average loss: 63.0 Test loss: 64.2\n",
      " Train Epoch: 61 [58880/60000 (98%)]\tLoss: 62.6 Average loss: 63.0 Test loss: 64.1\n",
      " Train Epoch: 62 [58880/60000 (98%)]\tLoss: 64.5 Average loss: 62.9 Test loss: 64.2\n",
      " Train Epoch: 63 [58880/60000 (98%)]\tLoss: 62.8 Average loss: 62.9 Test loss: 64.2\n",
      " Train Epoch: 64 [58880/60000 (98%)]\tLoss: 64.1 Average loss: 62.9 Test loss: 64.1\n",
      " Train Epoch: 65 [58880/60000 (98%)]\tLoss: 61.7 Average loss: 62.9 Test loss: 64.1\n",
      " Train Epoch: 66 [58880/60000 (98%)]\tLoss: 63.9 Average loss: 62.8 Test loss: 64.1\n",
      " Train Epoch: 67 [58880/60000 (98%)]\tLoss: 61.0 Average loss: 62.8 Test loss: 64.1\n",
      " Train Epoch: 68 [58880/60000 (98%)]\tLoss: 65.8 Average loss: 62.8 Test loss: 64.1\n",
      " Train Epoch: 69 [58880/60000 (98%)]\tLoss: 63.2 Average loss: 62.8 Test loss: 64.0\n",
      " Train Epoch: 70 [58880/60000 (98%)]\tLoss: 62.4 Average loss: 62.8 Test loss: 64.1\n",
      " Train Epoch: 71 [58880/60000 (98%)]\tLoss: 60.7 Average loss: 62.7 Test loss: 64.0\n",
      " Train Epoch: 72 [58880/60000 (98%)]\tLoss: 62.9 Average loss: 62.7 Test loss: 64.0\n",
      " Train Epoch: 73 [58880/60000 (98%)]\tLoss: 61.5 Average loss: 62.7 Test loss: 64.0\n",
      " Train Epoch: 74 [58880/60000 (98%)]\tLoss: 62.7 Average loss: 62.7 Test loss: 64.0\n",
      " Train Epoch: 75 [58880/60000 (98%)]\tLoss: 62.5 Average loss: 62.7 Test loss: 64.0\n",
      " Train Epoch: 76 [58880/60000 (98%)]\tLoss: 61.6 Average loss: 62.6 Test loss: 64.0\n",
      " Train Epoch: 77 [58880/60000 (98%)]\tLoss: 62.3 Average loss: 62.6 Test loss: 64.0\n",
      " Train Epoch: 78 [58880/60000 (98%)]\tLoss: 63.1 Average loss: 62.6 Test loss: 63.9\n",
      " Train Epoch: 79 [58880/60000 (98%)]\tLoss: 64.5 Average loss: 62.6 Test loss: 64.0\n",
      " Train Epoch: 80 [58880/60000 (98%)]\tLoss: 60.7 Average loss: 62.6 Test loss: 63.9\n",
      " Train Epoch: 81 [58880/60000 (98%)]\tLoss: 60.3 Average loss: 62.5 Test loss: 63.9\n",
      " Train Epoch: 82 [58880/60000 (98%)]\tLoss: 64.2 Average loss: 62.5 Test loss: 63.9\n",
      " Train Epoch: 83 [58880/60000 (98%)]\tLoss: 63.4 Average loss: 62.5 Test loss: 63.9\n",
      " Train Epoch: 84 [58880/60000 (98%)]\tLoss: 64.4 Average loss: 62.5 Test loss: 63.9\n",
      " Train Epoch: 85 [58880/60000 (98%)]\tLoss: 63.0 Average loss: 62.5 Test loss: 64.1\n",
      " Train Epoch: 86 [58880/60000 (98%)]\tLoss: 61.0 Average loss: 62.5 Test loss: 64.0\n",
      " Train Epoch: 87 [58880/60000 (98%)]\tLoss: 65.8 Average loss: 62.4 Test loss: 63.9\n",
      " Train Epoch: 88 [58880/60000 (98%)]\tLoss: 62.9 Average loss: 62.4 Test loss: 63.9\n",
      " Train Epoch: 89 [58880/60000 (98%)]\tLoss: 61.9 Average loss: 62.4 Test loss: 63.8\n",
      " Train Epoch: 90 [58880/60000 (98%)]\tLoss: 62.6 Average loss: 62.4 Test loss: 63.9\n",
      " Train Epoch: 91 [58880/60000 (98%)]\tLoss: 64.4 Average loss: 62.4 Test loss: 63.8\n",
      " Train Epoch: 92 [58880/60000 (98%)]\tLoss: 65.6 Average loss: 62.4 Test loss: 63.9\n",
      " Train Epoch: 93 [58880/60000 (98%)]\tLoss: 58.4 Average loss: 62.4 Test loss: 63.9\n",
      " Train Epoch: 94 [58880/60000 (98%)]\tLoss: 62.5 Average loss: 62.3 Test loss: 63.9\n",
      " Train Epoch: 95 [58880/60000 (98%)]\tLoss: 62.6 Average loss: 62.3 Test loss: 63.8\n",
      " Train Epoch: 96 [58880/60000 (98%)]\tLoss: 62.8 Average loss: 62.3 Test loss: 63.8\n",
      " Train Epoch: 97 [58880/60000 (98%)]\tLoss: 61.0 Average loss: 62.3 Test loss: 63.8\n",
      " Train Epoch: 98 [58880/60000 (98%)]\tLoss: 62.9 Average loss: 62.3 Test loss: 63.9\n",
      " Train Epoch: 99 [58880/60000 (98%)]\tLoss: 64.6 Average loss: 62.3 Test loss: 63.9\n"
     ]
    },
    {
     "name": "stdout",
     "output_type": "stream",
     "text": [
      " Train Epoch: 100 [58880/60000 (98%)]\tLoss: 63.0 Average loss: 62.3 Test loss: 63.7\n",
      " Train Epoch: 101 [58880/60000 (98%)]\tLoss: 64.1 Average loss: 62.3 Test loss: 63.8\n",
      " Train Epoch: 102 [58880/60000 (98%)]\tLoss: 62.3 Average loss: 62.2 Test loss: 63.9\n",
      " Train Epoch: 103 [58880/60000 (98%)]\tLoss: 64.0 Average loss: 62.2 Test loss: 64.0\n",
      " Train Epoch: 104 [58880/60000 (98%)]\tLoss: 59.8 Average loss: 62.2 Test loss: 63.8\n",
      " Train Epoch: 105 [58880/60000 (98%)]\tLoss: 62.2 Average loss: 62.2 Test loss: 63.9\n",
      " Train Epoch: 106 [58880/60000 (98%)]\tLoss: 63.3 Average loss: 62.2 Test loss: 63.9\n",
      " Train Epoch: 107 [58880/60000 (98%)]\tLoss: 65.0 Average loss: 62.2 Test loss: 63.8\n",
      " Train Epoch: 108 [58880/60000 (98%)]\tLoss: 59.8 Average loss: 62.2 Test loss: 63.8\n",
      " Train Epoch: 109 [58880/60000 (98%)]\tLoss: 61.2 Average loss: 62.2 Test loss: 63.8\n",
      " Train Epoch: 110 [58880/60000 (98%)]\tLoss: 62.2 Average loss: 62.2 Test loss: 63.7\n",
      " Train Epoch: 111 [58880/60000 (98%)]\tLoss: 60.9 Average loss: 62.1 Test loss: 63.7\n",
      " Train Epoch: 112 [58880/60000 (98%)]\tLoss: 63.2 Average loss: 62.1 Test loss: 63.8\n",
      " Train Epoch: 113 [58880/60000 (98%)]\tLoss: 61.9 Average loss: 62.1 Test loss: 63.7\n",
      " Train Epoch: 114 [58880/60000 (98%)]\tLoss: 62.3 Average loss: 62.1 Test loss: 63.9\n",
      " Train Epoch: 115 [58880/60000 (98%)]\tLoss: 58.7 Average loss: 62.1 Test loss: 63.8\n",
      " Train Epoch: 116 [58880/60000 (98%)]\tLoss: 63.6 Average loss: 62.1 Test loss: 63.8\n",
      " Train Epoch: 117 [58880/60000 (98%)]\tLoss: 61.7 Average loss: 62.1 Test loss: 63.8\n",
      " Train Epoch: 118 [58880/60000 (98%)]\tLoss: 59.5 Average loss: 62.1 Test loss: 63.8\n",
      " Train Epoch: 119 [58880/60000 (98%)]\tLoss: 61.1 Average loss: 62.0 Test loss: 63.8\n",
      " Train Epoch: 120 [58880/60000 (98%)]\tLoss: 61.6 Average loss: 62.1 Test loss: 63.8\n",
      " Train Epoch: 121 [58880/60000 (98%)]\tLoss: 60.2 Average loss: 62.0 Test loss: 63.7\n",
      " Train Epoch: 122 [58880/60000 (98%)]\tLoss: 61.1 Average loss: 62.0 Test loss: 63.7\n",
      " Train Epoch: 123 [58880/60000 (98%)]\tLoss: 64.6 Average loss: 62.0 Test loss: 63.7\n",
      " Train Epoch: 124 [58880/60000 (98%)]\tLoss: 64.3 Average loss: 62.0 Test loss: 63.8\n",
      " Train Epoch: 125 [58880/60000 (98%)]\tLoss: 60.0 Average loss: 62.0 Test loss: 63.7\n",
      " Train Epoch: 126 [58880/60000 (98%)]\tLoss: 62.1 Average loss: 62.0 Test loss: 63.7\n",
      " Train Epoch: 127 [58880/60000 (98%)]\tLoss: 62.0 Average loss: 62.0 Test loss: 63.7\n",
      " Train Epoch: 128 [58880/60000 (98%)]\tLoss: 62.0 Average loss: 62.0 Test loss: 63.8\n",
      " Train Epoch: 129 [58880/60000 (98%)]\tLoss: 62.1 Average loss: 62.0 Test loss: 63.8\n",
      " Train Epoch: 130 [58880/60000 (98%)]\tLoss: 61.9 Average loss: 61.9 Test loss: 63.6\n",
      " Train Epoch: 131 [58880/60000 (98%)]\tLoss: 64.1 Average loss: 61.9 Test loss: 63.8\n",
      " Train Epoch: 132 [58880/60000 (98%)]\tLoss: 62.8 Average loss: 61.9 Test loss: 63.6\n",
      " Train Epoch: 133 [58880/60000 (98%)]\tLoss: 63.0 Average loss: 61.9 Test loss: 63.7\n",
      " Train Epoch: 134 [58880/60000 (98%)]\tLoss: 62.3 Average loss: 61.9 Test loss: 63.7\n",
      " Train Epoch: 135 [58880/60000 (98%)]\tLoss: 59.7 Average loss: 61.9 Test loss: 63.6\n",
      " Train Epoch: 136 [58880/60000 (98%)]\tLoss: 61.7 Average loss: 61.9 Test loss: 63.7\n",
      " Train Epoch: 137 [58880/60000 (98%)]\tLoss: 62.7 Average loss: 61.9 Test loss: 63.7\n",
      " Train Epoch: 138 [58880/60000 (98%)]\tLoss: 64.3 Average loss: 61.9 Test loss: 63.7\n",
      " Train Epoch: 139 [58880/60000 (98%)]\tLoss: 65.3 Average loss: 61.9 Test loss: 63.7\n",
      " Train Epoch: 140 [58880/60000 (98%)]\tLoss: 64.7 Average loss: 61.9 Test loss: 63.7\n",
      " Train Epoch: 141 [58880/60000 (98%)]\tLoss: 62.9 Average loss: 61.9 Test loss: 63.7\n",
      " Train Epoch: 142 [58880/60000 (98%)]\tLoss: 62.1 Average loss: 61.9 Test loss: 63.7\n",
      " Train Epoch: 143 [58880/60000 (98%)]\tLoss: 64.5 Average loss: 61.9 Test loss: 63.7\n",
      " Train Epoch: 144 [58880/60000 (98%)]\tLoss: 63.3 Average loss: 61.8 Test loss: 63.7\n",
      " Train Epoch: 145 [58880/60000 (98%)]\tLoss: 62.8 Average loss: 61.8 Test loss: 63.8\n",
      " Train Epoch: 146 [58880/60000 (98%)]\tLoss: 63.4 Average loss: 61.8 Test loss: 63.7\n",
      " Train Epoch: 147 [58880/60000 (98%)]\tLoss: 58.7 Average loss: 61.8 Test loss: 63.7\n",
      " Train Epoch: 148 [58880/60000 (98%)]\tLoss: 62.1 Average loss: 61.8 Test loss: 63.7\n",
      " Train Epoch: 149 [58880/60000 (98%)]\tLoss: 59.7 Average loss: 61.8 Test loss: 63.6\n",
      " Train Epoch: 150 [58880/60000 (98%)]\tLoss: 61.0 Average loss: 61.8 Test loss: 63.6\n",
      " Train Epoch: 151 [58880/60000 (98%)]\tLoss: 62.5 Average loss: 61.8 Test loss: 63.6\n",
      " Train Epoch: 152 [58880/60000 (98%)]\tLoss: 63.3 Average loss: 61.8 Test loss: 63.6\n",
      " Train Epoch: 153 [58880/60000 (98%)]\tLoss: 64.0 Average loss: 61.8 Test loss: 63.6\n",
      " Train Epoch: 154 [58880/60000 (98%)]\tLoss: 63.6 Average loss: 61.8 Test loss: 63.8\n",
      " Train Epoch: 155 [58880/60000 (98%)]\tLoss: 64.7 Average loss: 61.8 Test loss: 63.7\n",
      " Train Epoch: 156 [58880/60000 (98%)]\tLoss: 64.0 Average loss: 61.8 Test loss: 63.7\n",
      " Train Epoch: 157 [58880/60000 (98%)]\tLoss: 62.9 Average loss: 61.8 Test loss: 63.7\n",
      " Train Epoch: 158 [58880/60000 (98%)]\tLoss: 62.5 Average loss: 61.8 Test loss: 63.7\n",
      " Train Epoch: 159 [58880/60000 (98%)]\tLoss: 62.6 Average loss: 61.7 Test loss: 63.7\n",
      " Train Epoch: 160 [58880/60000 (98%)]\tLoss: 62.7 Average loss: 61.8 Test loss: 63.6\n",
      " Train Epoch: 161 [58880/60000 (98%)]\tLoss: 60.3 Average loss: 61.7 Test loss: 63.6\n",
      " Train Epoch: 162 [58880/60000 (98%)]\tLoss: 61.3 Average loss: 61.7 Test loss: 63.6\n",
      " Train Epoch: 163 [58880/60000 (98%)]\tLoss: 61.8 Average loss: 61.7 Test loss: 63.6\n",
      " Train Epoch: 164 [58880/60000 (98%)]\tLoss: 61.2 Average loss: 61.7 Test loss: 63.6\n",
      " Train Epoch: 165 [58880/60000 (98%)]\tLoss: 63.4 Average loss: 61.7 Test loss: 63.7\n",
      " Train Epoch: 166 [58880/60000 (98%)]\tLoss: 62.5 Average loss: 61.7 Test loss: 63.7\n",
      " Train Epoch: 167 [58880/60000 (98%)]\tLoss: 60.1 Average loss: 61.7 Test loss: 63.7\n",
      " Train Epoch: 168 [58880/60000 (98%)]\tLoss: 58.2 Average loss: 61.7 Test loss: 63.6\n",
      " Train Epoch: 169 [58880/60000 (98%)]\tLoss: 63.5 Average loss: 61.7 Test loss: 63.7\n",
      " Train Epoch: 170 [58880/60000 (98%)]\tLoss: 62.8 Average loss: 61.7 Test loss: 63.7\n",
      " Train Epoch: 171 [58880/60000 (98%)]\tLoss: 58.6 Average loss: 61.7 Test loss: 63.7\n",
      " Train Epoch: 172 [58880/60000 (98%)]\tLoss: 62.0 Average loss: 61.7 Test loss: 63.6\n",
      " Train Epoch: 173 [58880/60000 (98%)]\tLoss: 63.4 Average loss: 61.7 Test loss: 63.7\n",
      " Train Epoch: 174 [58880/60000 (98%)]\tLoss: 58.1 Average loss: 61.7 Test loss: 63.8\n",
      " Train Epoch: 175 [58880/60000 (98%)]\tLoss: 60.4 Average loss: 61.7 Test loss: 63.6\n",
      " Train Epoch: 176 [58880/60000 (98%)]\tLoss: 61.1 Average loss: 61.7 Test loss: 63.7\n",
      " Train Epoch: 177 [58880/60000 (98%)]\tLoss: 62.2 Average loss: 61.7 Test loss: 63.7\n",
      " Train Epoch: 178 [58880/60000 (98%)]\tLoss: 61.9 Average loss: 61.6 Test loss: 63.6\n",
      " Train Epoch: 179 [58880/60000 (98%)]\tLoss: 61.2 Average loss: 61.6 Test loss: 63.7\n",
      " Train Epoch: 180 [58880/60000 (98%)]\tLoss: 60.8 Average loss: 61.6 Test loss: 63.6\n",
      " Train Epoch: 181 [58880/60000 (98%)]\tLoss: 62.4 Average loss: 61.6 Test loss: 63.6\n",
      " Train Epoch: 182 [58880/60000 (98%)]\tLoss: 60.7 Average loss: 61.6 Test loss: 63.6\n",
      " Train Epoch: 183 [58880/60000 (98%)]\tLoss: 62.1 Average loss: 61.6 Test loss: 63.7\n",
      " Train Epoch: 184 [58880/60000 (98%)]\tLoss: 61.8 Average loss: 61.6 Test loss: 63.6\n",
      " Train Epoch: 185 [58880/60000 (98%)]\tLoss: 61.8 Average loss: 61.6 Test loss: 63.6\n",
      " Train Epoch: 186 [58880/60000 (98%)]\tLoss: 63.9 Average loss: 61.6 Test loss: 63.7\n",
      " Train Epoch: 187 [58880/60000 (98%)]\tLoss: 62.0 Average loss: 61.6 Test loss: 63.6\n",
      " Train Epoch: 188 [58880/60000 (98%)]\tLoss: 64.7 Average loss: 61.6 Test loss: 63.6\n",
      " Train Epoch: 189 [58880/60000 (98%)]\tLoss: 58.9 Average loss: 61.6 Test loss: 63.6\n",
      " Train Epoch: 190 [58880/60000 (98%)]\tLoss: 60.7 Average loss: 61.6 Test loss: 63.7\n",
      " Train Epoch: 191 [58880/60000 (98%)]\tLoss: 60.5 Average loss: 61.6 Test loss: 63.6\n",
      " Train Epoch: 192 [58880/60000 (98%)]\tLoss: 59.8 Average loss: 61.6 Test loss: 63.6\n",
      " Train Epoch: 193 [58880/60000 (98%)]\tLoss: 59.1 Average loss: 61.6 Test loss: 63.6\n",
      " Train Epoch: 194 [58880/60000 (98%)]\tLoss: 60.9 Average loss: 61.6 Test loss: 63.6\n",
      " Train Epoch: 195 [58880/60000 (98%)]\tLoss: 62.9 Average loss: 61.6 Test loss: 63.6\n",
      " Train Epoch: 196 [58880/60000 (98%)]\tLoss: 63.5 Average loss: 61.6 Test loss: 63.6\n"
     ]
    },
    {
     "name": "stdout",
     "output_type": "stream",
     "text": [
      " Train Epoch: 197 [58880/60000 (98%)]\tLoss: 59.0 Average loss: 61.5 Test loss: 63.7\n",
      " Train Epoch: 198 [58880/60000 (98%)]\tLoss: 63.5 Average loss: 61.5 Test loss: 63.7\n",
      " Train Epoch: 199 [58880/60000 (98%)]\tLoss: 61.1 Average loss: 61.6 Test loss: 63.6\n",
      " Train Epoch: 200 [58880/60000 (98%)]\tLoss: 59.5 Average loss: 61.5 Test loss: 63.6\n"
     ]
    }
   ],
   "source": [
    "for epoch in range(1, epochs + 1):\n",
    "    train(epoch)\n",
    "    test(epoch)\n",
    "    \n",
    "# digits in latent space\n",
    "# enregistrer en tant que matrice 8 × 8 = 64 de MNIST chiffres    \n",
    "    with torch.no_grad():\n",
    "     sample = torch.randn(64, 20).to(device)\n",
    "     sample = model.decode(sample).cpu()\n",
    "     save_image(sample.view(64, 1, 28, 28), 'results/sample_' + str(epoch) + '.png')"
   ]
  },
  {
   "cell_type": "code",
   "execution_count": 23,
   "metadata": {},
   "outputs": [],
   "source": [
    "# controle de results\n",
    "# dans fichier results : 200 images codees + 200 images decodees pour 200 epochs\n",
    "# sur chaque image (suite de 8 chiffres encodes > 8  chiffres decodes)"
   ]
  },
  {
   "cell_type": "code",
   "execution_count": 24,
   "metadata": {},
   "outputs": [
    {
     "data": {
      "text/plain": [
       "[<matplotlib.lines.Line2D at 0x7ffb1c2f87f0>]"
      ]
     },
     "execution_count": 24,
     "metadata": {},
     "output_type": "execute_result"
    },
    {
     "data": {
      "image/png": "[encoded data removed]",
      "text/plain": [
       "<Figure size 432x288 with 1 Axes>"
      ]
     },
     "metadata": {
      "needs_background": "light"
     },
     "output_type": "display_data"
    }
   ],
   "source": [
    "#plot losses\n",
    "plt.plot(losses)"
   ]
  },
  {
   "cell_type": "code",
   "execution_count": null,
   "metadata": {},
   "outputs": [],
   "source": []
  },
  {
   "cell_type": "code",
   "execution_count": 25,
   "metadata": {},
   "outputs": [
    {
     "name": "stdout",
     "output_type": "stream",
     "text": [
      "Temps d execution : 297.5 secondes ---\n"
     ]
    }
   ],
   "source": [
    "# Affichage du temps d execution\n",
    "print(\"Temps d execution : %s secondes ---\" % round((time.time() - start_time),1))"
   ]
  },
  {
   "cell_type": "code",
   "execution_count": null,
   "metadata": {},
   "outputs": [],
   "source": [
    "# analyse : 5 mn avec 1 geforce gtx1080"
   ]
  }
 ],
 "metadata": {
  "kernelspec": {
   "display_name": "Python 3",
   "language": "python",
   "name": "python3"
  },
  "language_info": {
   "codemirror_mode": {
    "name": "ipython",
    "version": 3
   },
   "file_extension": ".py",
   "mimetype": "text/x-python",
   "name": "python",
   "nbconvert_exporter": "python",
   "pygments_lexer": "ipython3",
   "version": "3.6.7"
  }
 },
 "nbformat": 4,
 "nbformat_minor": 2
}
