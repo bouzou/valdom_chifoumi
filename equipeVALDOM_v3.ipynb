{
 "cells": [
  {
   "cell_type": "markdown",
   "metadata": {},
   "source": [
    "# Dataset : Pierres, Feuilles, ciseaux\n",
    "# Taille : 346 images RGB\n",
    "# Classifieur : probleme de classification supervisee, k = 3 classes\n",
    "# Famille de methodes : deep learning, computer vision"
   ]
  },
  {
   "cell_type": "code",
   "execution_count": 1,
   "metadata": {},
   "outputs": [],
   "source": [
    "# Version = 3, prise en compte des remarques de notre enseignant Pierre Boudier"
   ]
  },
  {
   "cell_type": "code",
   "execution_count": 2,
   "metadata": {},
   "outputs": [],
   "source": [
    "# =========================================================================\n",
    "# Date : 27 nov. 2018\n",
    "# MS Valdom > apprenants > omar attaf, laurent lapasset, didier le picaut\n",
    "# ========================================================================="
   ]
  },
  {
   "cell_type": "raw",
   "metadata": {},
   "source": [
    "Executive summary : version 3\n",
    "\n",
    "# Delta_Accuracy(V3-V21)= + 2 points\n",
    "\n",
    "# Rootcause1 :\n",
    "# - veritable data augmentation = sourcing image dataset avec https://toolbox.google.com/datasetsearch \n",
    "# (ie senz3d_dataset) > + 144 images en train (et non data augmentation calculatoire a effet limite sur un MLP)\n",
    "\n",
    "# Rootcause2 :\n",
    "# - dropout entre les layers fully connected\n",
    "# - log_softmax en sortie pour un pb de classification supervisee multi-classes"
   ]
  },
  {
   "cell_type": "raw",
   "metadata": {},
   "source": [
    "# source data augmentation\n",
    "# http://lttm.dei.unipd.it/downloads/gesture/"
   ]
  },
  {
   "cell_type": "code",
   "execution_count": 3,
   "metadata": {},
   "outputs": [],
   "source": [
    "#************************************************************************************#"
   ]
  },
  {
   "cell_type": "code",
   "execution_count": 4,
   "metadata": {},
   "outputs": [],
   "source": [
    "#- CORRIGE : le flipping des images en x/y donne un facteur 2x2.\n",
    "# Mais on a <1000 images alors que mnist est de l'ordre de 50 000.\n",
    "# il faut essayer d'autres techniques (\n",
    " #-- changement de contraste, \n",
    " #-- random noise, \n",
    " #-- random squeeze, \n",
    " #-- random rotate, ...)"
   ]
  },
  {
   "cell_type": "code",
   "execution_count": 5,
   "metadata": {},
   "outputs": [],
   "source": [
    "# CORRIGE - l'accuracy est de 23% (moins bon que 33% si on classe au hasard); \n",
    "# CORRIGE - le commentaire sur le 1-accuracy est donc incorrect."
   ]
  },
  {
   "cell_type": "code",
   "execution_count": 6,
   "metadata": {},
   "outputs": [],
   "source": [
    "#- CORRIGE le print() de 30"
   ]
  },
  {
   "cell_type": "code",
   "execution_count": 7,
   "metadata": {},
   "outputs": [],
   "source": [
    "# CORRIGE - batch_size est incorrect (30) ?"
   ]
  },
  {
   "cell_type": "code",
   "execution_count": 8,
   "metadata": {},
   "outputs": [],
   "source": [
    "# CORRIGE - le batch size pour la version CPU semble trop grand (64)"
   ]
  },
  {
   "cell_type": "code",
   "execution_count": 9,
   "metadata": {},
   "outputs": [],
   "source": [
    "#************************************************************************************#"
   ]
  },
  {
   "cell_type": "code",
   "execution_count": null,
   "metadata": {},
   "outputs": [],
   "source": []
  },
  {
   "cell_type": "code",
   "execution_count": 10,
   "metadata": {},
   "outputs": [],
   "source": [
    "#== importation des libraries necessaires pour la mise en oeuvre code Pytorch\n",
    "\n",
    "import numpy\n",
    "import numpy as np\n",
    "import torch\n",
    "import torch.nn as nn\n",
    "import torch.nn.functional as F\n",
    "import torch.utils.data.dataloader as dataloader\n",
    "import torch.optim as optim\n",
    "import torchvision\n",
    "\n",
    "from torch.utils.data import TensorDataset\n",
    "from torch.autograd import Variable\n",
    "from torchvision import transforms\n",
    "import matplotlib.pyplot as plt\n",
    "import time"
   ]
  },
  {
   "cell_type": "code",
   "execution_count": 11,
   "metadata": {},
   "outputs": [
    {
     "data": {
      "text/plain": [
       "True"
      ]
     },
     "execution_count": 11,
     "metadata": {},
     "output_type": "execute_result"
    }
   ],
   "source": [
    "#== sanity check : library cuda est-elle presente ?\n",
    "torch.cuda.is_available()"
   ]
  },
  {
   "cell_type": "code",
   "execution_count": 12,
   "metadata": {},
   "outputs": [
    {
     "data": {
      "text/plain": [
       "True"
      ]
     },
     "execution_count": 12,
     "metadata": {},
     "output_type": "execute_result"
    }
   ],
   "source": [
    "#== sanity check : presence du framework cudnn ?\n",
    "torch.backends.cudnn.enabled"
   ]
  },
  {
   "cell_type": "code",
   "execution_count": 13,
   "metadata": {},
   "outputs": [],
   "source": [
    "#== mise en place d un compteur de temps pour voir le temps de convergence du Rx neurones [trop  ou pas ?]\n",
    "# Debut du decompte du temps\n",
    "start_time = time.time()"
   ]
  },
  {
   "cell_type": "code",
   "execution_count": 14,
   "metadata": {},
   "outputs": [],
   "source": [
    "#== generateur, pour reproductibilite du modele\n",
    "\n",
    "SEED = 1\n",
    "\n",
    "# CUDA?\n",
    "cuda = torch.cuda.is_available()\n",
    "\n",
    "# For reproducibility\n",
    "torch.manual_seed(SEED)\n",
    "\n",
    "if cuda:\n",
    "    torch.cuda.manual_seed(SEED)"
   ]
  },
  {
   "cell_type": "code",
   "execution_count": 15,
   "metadata": {},
   "outputs": [],
   "source": [
    "#== analyse : apres plusieurs iterations de notre notebook, on a fait de la data augmentation horizontale et\n",
    "#== verticale pour gagner plusieurs points d accuracy\n",
    "#== pour les Rx de neurones, il faut beaucoup de donnees pour entrainer les parametres du classifieur"
   ]
  },
  {
   "cell_type": "code",
   "execution_count": 16,
   "metadata": {},
   "outputs": [],
   "source": [
    "# normalize will center around -1 1\n",
    "\n",
    "# ont ete teste les data augmentations :\n",
    " #-- changement de contraste, \n",
    " #-- random noise, \n",
    " #-- random squeeze, \n",
    " #-- random rotate, ...)\n",
    "\n",
    "#== Data augmentation retenues\n",
    "trans = transforms.Compose([ \n",
    "                            transforms.Resize((32,32)),\n",
    "                            transforms.Grayscale(),\n",
    "                            \n",
    "                            transforms.RandomRotation(45),\n",
    "                            \n",
    "                            transforms.RandomHorizontalFlip(p=0.5),\n",
    "                            transforms.RandomVerticalFlip(p=0.5),\n",
    "                        \n",
    "                            transforms.ToTensor()\n",
    "                            ])"
   ]
  },
  {
   "cell_type": "code",
   "execution_count": 17,
   "metadata": {},
   "outputs": [
    {
     "name": "stdout",
     "output_type": "stream",
     "text": [
      "['paper', 'rock', 'scissors']\n",
      "['paper', 'rock', 'scissors']\n"
     ]
    }
   ],
   "source": [
    "# =========================================================================\n",
    "# Application des transforms sur les datasets train and test\n",
    "# =========================================================================\n",
    "\n",
    "train = torchvision.datasets.ImageFolder('/home/lepic/N7/mlpV2/S2/train', trans)\n",
    "test = torchvision.datasets.ImageFolder('/home/lepic/N7/mlpV2/S2/test', trans)\n",
    "print (train.classes)\n",
    "print (test.classes)"
   ]
  },
  {
   "cell_type": "code",
   "execution_count": 18,
   "metadata": {},
   "outputs": [
    {
     "data": {
      "text/plain": [
       "84.97"
      ]
     },
     "execution_count": 18,
     "metadata": {},
     "output_type": "execute_result"
    }
   ],
   "source": [
    "#== Poids train (%) = 84.97\n",
    "poidstrain=round(((294/(294+52))*100),2)\n",
    "poidstrain"
   ]
  },
  {
   "cell_type": "code",
   "execution_count": 19,
   "metadata": {},
   "outputs": [
    {
     "data": {
      "text/plain": [
       "294"
      ]
     },
     "execution_count": 19,
     "metadata": {},
     "output_type": "execute_result"
    }
   ],
   "source": [
    "#== sanity check longeur dataset train/\n",
    "longueurTrain=len(train)\n",
    "longueurTrain"
   ]
  },
  {
   "cell_type": "code",
   "execution_count": 20,
   "metadata": {},
   "outputs": [
    {
     "data": {
      "text/plain": [
       "15.03"
      ]
     },
     "execution_count": 20,
     "metadata": {},
     "output_type": "execute_result"
    }
   ],
   "source": [
    "#== Poids test (%) = 15.02\n",
    "poidstest=round(((52/(294+52))*100),2)\n",
    "poidstest"
   ]
  },
  {
   "cell_type": "code",
   "execution_count": 21,
   "metadata": {},
   "outputs": [
    {
     "data": {
      "text/plain": [
       "52"
      ]
     },
     "execution_count": 21,
     "metadata": {},
     "output_type": "execute_result"
    }
   ],
   "source": [
    "#== sanity check longeur dataset test\n",
    "longueurTest=len(test)\n",
    "longueurTest"
   ]
  },
  {
   "cell_type": "code",
   "execution_count": 22,
   "metadata": {},
   "outputs": [],
   "source": [
    "# Create DataLoader\n",
    "\n",
    "dataloader_args = dict(shuffle=True, batch_size=32,num_workers=11, pin_memory=True) if cuda else dict(shuffle=True, batch_size=64)\n",
    "train_loader = dataloader.DataLoader(train, **dataloader_args)\n",
    "\n",
    "dataloader_args = dict(shuffle=True, batch_size=len(test),num_workers=11, pin_memory=True)\n",
    "test_loader = dataloader.DataLoader(test, **dataloader_args)\n"
   ]
  },
  {
   "cell_type": "raw",
   "metadata": {},
   "source": [
    "# ========================\n",
    "# architecture retravailler selon les preconisations de la recherche :\n",
    "\n",
    "# http://www.cogsys.wiai.uni-bamberg.de/theses/gupta/Masterarbeit_Gupta.pdf\n",
    "# ========================"
   ]
  },
  {
   "cell_type": "code",
   "execution_count": 23,
   "metadata": {},
   "outputs": [],
   "source": [
    "#== architecture du reseaux fully connected : Multi Layers Perceptron (a 3 couches) \n",
    "#== + dropout\n",
    "#== + 1 sortie log_softmax"
   ]
  },
  {
   "cell_type": "code",
   "execution_count": 25,
   "metadata": {},
   "outputs": [
    {
     "name": "stdout",
     "output_type": "stream",
     "text": [
      "Model(\n",
      "  (fc1): Linear(in_features=1024, out_features=64, bias=True)\n",
      "  (fc1_drop): Dropout(p=0.2)\n",
      "  (fc2): Linear(in_features=64, out_features=32, bias=True)\n",
      "  (fc2_drop): Dropout(p=0.2)\n",
      "  (fc3): Linear(in_features=32, out_features=3, bias=True)\n",
      ")\n"
     ]
    }
   ],
   "source": [
    "class Model(nn.Module):\n",
    "    def __init__(self):\n",
    "        super(Model, self).__init__()\n",
    "        self.fc1 = nn.Linear(32*32, 64)\n",
    "        self.fc1_drop = nn.Dropout(0.2)\n",
    "        self.fc2 = nn.Linear(64, 32)\n",
    "        self.fc2_drop = nn.Dropout(0.2)\n",
    "        self.fc3 = nn.Linear(32, 3)\n",
    "\n",
    "    def forward(self, x):\n",
    "        x = x.view(-1, 32*32)\n",
    "        x = F.relu(self.fc1(x))\n",
    "        x = self.fc1_drop(x)\n",
    "        x = F.relu(self.fc2(x))\n",
    "        x = self.fc2_drop(x)\n",
    "        return F.log_softmax(self.fc3(x),dim=1)\n",
    "\n",
    "model = Model()\n",
    "if cuda:\n",
    "    model.cuda()\n",
    "    \n",
    "optimizer = optim.SGD(model.parameters(), lr=0.01, momentum=0.5)\n",
    "\n",
    "print(model)"
   ]
  },
  {
   "cell_type": "code",
   "execution_count": 26,
   "metadata": {
    "scrolled": false
   },
   "outputs": [
    {
     "name": "stdout",
     "output_type": "stream",
     "text": [
      " Train Epoch: 1/8 [294/294 (784%)]\tLoss: 1.115401\t Test Accuracy: 38.4615%\n",
      " Train Epoch: 2/8 [294/294 (784%)]\tLoss: 1.098200\t Test Accuracy: 40.3846%\n",
      " Train Epoch: 3/8 [294/294 (784%)]\tLoss: 1.116042\t Test Accuracy: 38.4615%\n",
      " Train Epoch: 4/8 [294/294 (784%)]\tLoss: 1.114790\t Test Accuracy: 32.6923%\n",
      " Train Epoch: 5/8 [294/294 (784%)]\tLoss: 1.106509\t Test Accuracy: 34.6154%\n",
      " Train Epoch: 6/8 [294/294 (784%)]\tLoss: 1.100093\t Test Accuracy: 34.6154%\n",
      " Train Epoch: 7/8 [294/294 (784%)]\tLoss: 1.127872\t Test Accuracy: 30.7692%\n",
      " Train Epoch: 8/8 [294/294 (784%)]\tLoss: 1.107660\t Test Accuracy: 44.2308%\n"
     ]
    }
   ],
   "source": [
    "EPOCHS = 8\n",
    "losses = []\n",
    "\n",
    "# Eval\n",
    "evaluate_x, evaluate_y = iter(test_loader).next()\n",
    "evaluate_x = evaluate_x.unsqueeze_(1)\n",
    "\n",
    "if cuda:\n",
    "    evaluate_x, evaluate_y = evaluate_x.cuda(), evaluate_y.cuda()\n",
    "train_size = len(train_loader.dataset)\n",
    "\n",
    "batch_size = (train_size / 256) if (cuda) else  (train_size / 64)\n",
    "\n",
    "\n",
    "model.train()\n",
    "\n",
    "for epoch in range(EPOCHS):\n",
    "    for batch_idx, (data, target) in enumerate(train_loader):\n",
    "        \n",
    "        # Get Samples\n",
    "        data, target = Variable(data), Variable(target)\n",
    "    \n",
    "        if cuda:\n",
    "            data, target = data.cuda(), target.cuda()\n",
    "        \n",
    "        # Init\n",
    "        optimizer.zero_grad()\n",
    "\n",
    "        # Predict\n",
    "        y_pred = model(data) \n",
    "\n",
    "         \n",
    "        # Calculate loss\n",
    "        loss = F.cross_entropy(y_pred, target)\n",
    "        losses.append(loss.cpu().item())\n",
    "        \n",
    "        # Backpropagation\n",
    "        loss.backward()\n",
    "        optimizer.step()\n",
    "        \n",
    "        \n",
    "        # Display\n",
    "        if batch_idx % 100 == 1:\n",
    "            print('\\r Train Epoch: {}/{} [{}/{} ({:.0f}%)]\\tLoss: {:.6f}'.format(\n",
    "                epoch+1,\n",
    "                EPOCHS,\n",
    "                batch_idx * len(data), \n",
    "                train_size,\n",
    "                100. * batch_idx / batch_size, \n",
    "                loss.cpu().item()), \n",
    "                end='')\n",
    "            \n",
    "    # display final evaluation for this epoch\n",
    "    model.eval()\n",
    "    output = model(evaluate_x)\n",
    "    pred = output.data.max(1)[1]\n",
    "    d = pred.eq(evaluate_y.data).cpu()\n",
    "    accuracy = d.sum().item()/d.size()[0]\n",
    "    \n",
    "    print('\\r Train Epoch: {}/{} [{}/{} ({:.0f}%)]\\tLoss: {:.6f}\\t Test Accuracy: {:.4f}%'.format(\n",
    "        epoch+1,\n",
    "        EPOCHS,\n",
    "        train_size, \n",
    "        train_size,\n",
    "        100. * batch_idx / batch_size, \n",
    "        loss.cpu().item(),\n",
    "        accuracy*100,\n",
    "        end=''))"
   ]
  },
  {
   "cell_type": "code",
   "execution_count": 27,
   "metadata": {},
   "outputs": [
    {
     "data": {
      "text/plain": [
       "[<matplotlib.lines.Line2D at 0x7f1e56337550>]"
      ]
     },
     "execution_count": 27,
     "metadata": {},
     "output_type": "execute_result"
    },
    {
     "data": {
      "image/png": "[encoded data removed]",
      "text/plain": [
       "<Figure size 432x288 with 1 Axes>"
      ]
     },
     "metadata": {
      "needs_background": "light"
     },
     "output_type": "display_data"
    }
   ],
   "source": [
    "plt.plot(losses)"
   ]
  },
  {
   "cell_type": "code",
   "execution_count": 28,
   "metadata": {},
   "outputs": [
    {
     "name": "stdout",
     "output_type": "stream",
     "text": [
      "#========================================\n",
      "Performance de note classifieur en test :\n",
      "#========================================\n",
      "Accuracy = tx de Bien Classe 44.23 %\n",
      "Taux de mal Classe: 56.0 %\n"
     ]
    }
   ],
   "source": [
    "model.eval()\n",
    "\n",
    "output = model(evaluate_x)\n",
    "pred = output.data.max(1)[1]\n",
    "d = pred.eq(evaluate_y.data).cpu()\n",
    "\n",
    "accuracy = d.sum().item()/d.size()[0]\n",
    "print ('#========================================')\n",
    "print ('Performance de note classifieur en test :')\n",
    "print ('#========================================')\n",
    "print ('Accuracy = tx de Bien Classe', round((100*accuracy),2),'%')\n",
    "TMC=round((1-accuracy),2)\n",
    "print('Taux de mal Classe:', round((TMC*100),2),'%')"
   ]
  },
  {
   "cell_type": "code",
   "execution_count": 29,
   "metadata": {},
   "outputs": [],
   "source": [
    "# == Analyse : sur le critere d accuracy, avec un small dataset, le MLP fait moins bien que le hasard (50%)"
   ]
  },
  {
   "cell_type": "code",
   "execution_count": 30,
   "metadata": {},
   "outputs": [],
   "source": [
    "# == 3  leviers d amelioration pour redresser l accuracy :\n",
    "# levier 1 = faire de la \"vrai data augmentation\", en generant des images avec un reseau GAN\n",
    "# levier 2 = utiliser une modele de transfert learning (ie inception v3)\n",
    "# levier 3 = levier 2 + un mlp surcouche + une validation croisee kfolds (hyper parametre : nb de couches (?))"
   ]
  },
  {
   "cell_type": "code",
   "execution_count": 31,
   "metadata": {},
   "outputs": [
    {
     "name": "stdout",
     "output_type": "stream",
     "text": [
      "Temps d execution : 108.1 secondes ---\n"
     ]
    }
   ],
   "source": [
    "# Affichage du temps d execution\n",
    "print(\"Temps d execution : %s secondes ---\" % round((time.time() - start_time),1))"
   ]
  },
  {
   "cell_type": "code",
   "execution_count": 32,
   "metadata": {},
   "outputs": [],
   "source": [
    "# == Analyse : pour un GPU GTX1060M < 2 minutes, le temps de convergence est \"nominal\""
   ]
  }
 ],
 "metadata": {
  "kernelspec": {
   "display_name": "Python 3",
   "language": "python",
   "name": "python3"
  },
  "language_info": {
   "codemirror_mode": {
    "name": "ipython",
    "version": 3
   },
   "file_extension": ".py",
   "mimetype": "text/x-python",
   "name": "python",
   "nbconvert_exporter": "python",
   "pygments_lexer": "ipython3",
   "version": "3.6.6"
  }
 },
 "nbformat": 4,
 "nbformat_minor": 2
}
