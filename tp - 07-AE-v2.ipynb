{
 "cells": [
  {
   "cell_type": "markdown",
   "metadata": {},
   "source": [
    "AutoEncoder"
   ]
  },
  {
   "cell_type": "markdown",
   "metadata": {},
   "source": [
    "# ==========================================================\n",
    "# Date : 02 dec. 2018\n",
    "# MS Valdom > apprenants > omar attaf, laurent lapasset, didier le picaut\n",
    "# Version = 2.0\n",
    "# =========================================================="
   ]
  },
  {
   "cell_type": "code",
   "execution_count": 3,
   "metadata": {},
   "outputs": [],
   "source": [
    "# Syllabus - auto encoder (AE)\n",
    "# http://www.xavierdupre.fr/app/ensae_teaching_dl/helpsphinx//chapters/deep_apprentissage_sans_labels.html"
   ]
  },
  {
   "cell_type": "code",
   "execution_count": 1,
   "metadata": {},
   "outputs": [],
   "source": [
    "# Que sont les auto-encodeurs\n",
    "# https://blog.keras.io/building-autoencoders-in-keras.html"
   ]
  },
  {
   "cell_type": "raw",
   "metadata": {},
   "source": [
    "# == EXECUTIVE SUMMARY: \n",
    ".dataset mnist = train = 60 000 images 28x28 + test = 10 000 images 28 x 28\n",
    ".bien régler la taille du batch selon puissance GPU\n",
    "\n",
    "# - ARCHITECTURE 1\n",
    ".avec 200 Epochs, en test, loss criteria [stabilisee] = 63.6% - instance = 5mn  \n",
    ".modele rx neurones : 2 couches fully connected + 1 ReLU (entre)\n",
    ". (784,400) > (400,20)\n",
    "\n",
    "# - ARCHITECTURE 2**\n",
    ". loss criteria [stabilisee/test] = 57.9% - instance = 6.76mn\n",
    ". modele rx neurones : 4 couches \n",
    ". (784,400) > (400,128) > (128,64) > (64,32)\n",
    "\n",
    "# - ARCHITECTURE 3\n",
    ". loss criteria [stabilisee/test] = 62.5% - instance = 7.56mn\n",
    ". modele rx neurones : 5 couches\n",
    ". (784,400) > (400,256) > (256,128) > (128,64) > (64,32)\n",
    "\n",
    "# - ARCHITECTURE 4 \n",
    ".loss criteria [stabilisee/test] = 58.2% - instance  = 6.90mn\n",
    ". architecture 2 avec les parametres optimizer affines\n",
    "==> difficile a regler, besoin d une procedure validation croisee k-folds, gridsearch, des hyperparametres de l'optimiser Adam\n",
    "\n",
    "\n",
    "** : BEST SOLUTION"
   ]
  },
  {
   "cell_type": "raw",
   "metadata": {},
   "source": [
    "# https://reyhaneaskari.github.io/AE.html\n",
    "# -------------------------------------------\n",
    "- Les encodeurs automatiques sont l’un des modèles d’apprentissage en profondeur \n",
    "non supervisé.\n",
    "- L'objectif d'un encodeur automatique est la réduction de la dimensionnalité \n",
    "et la découverte des fonctionnalités.\n",
    "- Un encodeur automatique est formé pour prévoir sa propre entrée, \n",
    "mais pour empêcher le modèle d’apprendre le mappage d’identité, \n",
    "certaines contraintes sont appliquées aux unités cachées."
   ]
  },
  {
   "cell_type": "raw",
   "metadata": {},
   "source": [
    "# https://vxlabs.com/2017/12/08/variational-autoencoder-in-pytorch-commented-and-annotated/# \n",
    "# ----------------------------------\n",
    "Qu'est-ce qu'un autoencoder?\n",
    "L’idée générale de l’auto-encodeur (AE) est de faire passer les informations par un étroit goulet d’étranglement entre les parties encodeur (entrée) et décodeur (sortie) en miroir d’un réseau de neurones. (voir le schéma ci-dessous)\n",
    "\n",
    "Etant donné que l'architecture et la fonction de perte du réseau sont configurées de manière à ce que la sortie tente d'émuler l'entrée, le réseau doit apprendre à coder les données d'entrée sur l'espace très limité représenté par le goulot d'étranglement."
   ]
  },
  {
   "cell_type": "raw",
   "metadata": {},
   "source": [
    ". Les auto-encodeurs sont appris automatiquement à partir d’exemples de données, ce qui est une propriété utile: cela signifie qu’il est facile de former des instances spécialisées de l’algorithme qui fonctionneront bien avec un type d’entrée donné.\n",
    " \n",
    " Pour créer un auto-codeur, vous avez besoin de trois choses: \n",
    ". une fonction de codage, \n",
    ". une fonction de décodage \n",
    ". et une fonction de distance entre la quantité de perte d’information entre la représentation compressée de vos données et la représentation décompressée (c’est-à-dire une fonction de \"perte\"). \n",
    ". Le codeur et le décodeur seront choisis pour être des fonctions paramétriques (généralement des réseaux de neurones) et pour pouvoir être différenciés par rapport à la fonction de distance, de sorte que les paramètres des fonctions de codage / décodage puissent être optimisés pour minimiser la perte de reconstruction, en utilisant une descente de gradient stochastique.\n",
    "\n",
    "# --------------------------------\n",
    ". presque tous les contextes où le terme \"autoencoder\" est utilisé, \n",
    "les fonctions de compression et de décompression sont implémentées\n",
    "avec des réseaux de neurones.\n",
    "\n",
    ". les auto-encodeurs sont a perte, ie les sorties decompressees seront degradees par rapport aux entrees d'origine."
   ]
  },
  {
   "cell_type": "code",
   "execution_count": 4,
   "metadata": {},
   "outputs": [],
   "source": [
    "# =================\n",
    "# autocompletion\n",
    "# =================\n",
    "%config IPCompleter.greedy=True"
   ]
  },
  {
   "cell_type": "code",
   "execution_count": 5,
   "metadata": {},
   "outputs": [],
   "source": [
    "# importer les libraries\n",
    "from __future__ import print_function\n",
    "import argparse\n",
    "\n",
    "import torch\n",
    "import torch.utils.data\n",
    "from torch import nn, optim\n",
    "from torch.nn import functional as F\n",
    "from torchvision import datasets, transforms\n",
    "from torchvision.utils import save_image\n",
    "import matplotlib.pyplot as plt"
   ]
  },
  {
   "cell_type": "code",
   "execution_count": 6,
   "metadata": {},
   "outputs": [],
   "source": [
    "#== mise en place d un compteur de temps pour voir le temps de convergence du Rx neurones [trop  ou pas ?]\n",
    "# Debut du decompte du temps\n",
    "import time\n",
    "start_time = time.time()"
   ]
  },
  {
   "cell_type": "code",
   "execution_count": 7,
   "metadata": {},
   "outputs": [
    {
     "data": {
      "text/plain": [
       "True"
      ]
     },
     "execution_count": 7,
     "metadata": {},
     "output_type": "execute_result"
    }
   ],
   "source": [
    "#== sanity check : library cuda est-elle presente ?\n",
    "torch.cuda.is_available()"
   ]
  },
  {
   "cell_type": "code",
   "execution_count": 8,
   "metadata": {},
   "outputs": [
    {
     "data": {
      "text/plain": [
       "True"
      ]
     },
     "execution_count": 8,
     "metadata": {},
     "output_type": "execute_result"
    }
   ],
   "source": [
    "#== sanity check : presence du framework cudnn ?\n",
    "torch.backends.cudnn.enabled"
   ]
  },
  {
   "cell_type": "code",
   "execution_count": 9,
   "metadata": {},
   "outputs": [
    {
     "data": {
      "text/plain": [
       "<torch._C.Generator at 0x7f4c53480ed0>"
      ]
     },
     "execution_count": 9,
     "metadata": {},
     "output_type": "execute_result"
    }
   ],
   "source": [
    "# reproductible\n",
    "SEED = 1\n",
    "torch.manual_seed(SEED)"
   ]
  },
  {
   "cell_type": "code",
   "execution_count": 10,
   "metadata": {},
   "outputs": [],
   "source": [
    "batchsize = 128\n",
    "\n",
    "#epochs=10\n",
    "epochs=200\n",
    "\n",
    "loginterval=10\n",
    "cuda = torch.cuda.is_available()"
   ]
  },
  {
   "cell_type": "code",
   "execution_count": 11,
   "metadata": {},
   "outputs": [
    {
     "data": {
      "text/plain": [
       "device(type='cuda')"
      ]
     },
     "execution_count": 11,
     "metadata": {},
     "output_type": "execute_result"
    }
   ],
   "source": [
    "device = torch.device(\"cuda\" if cuda else \"cpu\")\n",
    "device"
   ]
  },
  {
   "cell_type": "code",
   "execution_count": 12,
   "metadata": {},
   "outputs": [],
   "source": [
    "#== data chargement > dataset train + dataset test\n",
    "# Téléchargez ou chargez le jeu de données MNIST téléchargé \n",
    "# mélangez les données à chaque époque \n",
    "\n",
    "\n",
    "# Les instances de DataLoader chargeront les tenseurs directement dans la mémoire du GPU \n",
    "\n",
    "kwargs = {'num_workers': 11, 'pin_memory': True} if cuda else {}\n",
    "\n",
    "# dataset train\n",
    "\n",
    "train_loader = torch.utils.data.DataLoader(\n",
    "    datasets.MNIST('../data', train=True, download=True,\n",
    "                   transform=transforms.ToTensor()),\n",
    "    batch_size=batchsize, shuffle=True, **kwargs)\n",
    "\n",
    "# dataset test\n",
    "\n",
    "test_loader = torch.utils.data.DataLoader(\n",
    "    datasets.MNIST('../data', train=False, transform=transforms.ToTensor()),\n",
    "    batch_size=batchsize, shuffle=True, **kwargs)"
   ]
  },
  {
   "cell_type": "code",
   "execution_count": 13,
   "metadata": {},
   "outputs": [
    {
     "data": {
      "text/plain": [
       "60000"
      ]
     },
     "execution_count": 13,
     "metadata": {},
     "output_type": "execute_result"
    }
   ],
   "source": [
    "len(train_loader.dataset)"
   ]
  },
  {
   "cell_type": "code",
   "execution_count": 14,
   "metadata": {},
   "outputs": [
    {
     "data": {
      "text/plain": [
       "10000"
      ]
     },
     "execution_count": 14,
     "metadata": {},
     "output_type": "execute_result"
    }
   ],
   "source": [
    "len(test_loader.dataset)"
   ]
  },
  {
   "cell_type": "code",
   "execution_count": 15,
   "metadata": {},
   "outputs": [],
   "source": [
    "#== transform=transforms.ToTensor()) ?\n",
    "\n",
    "# Convertit une image PIL ou numpy.ndarray (H x L x C) \n",
    "# comprise dans l'intervalle [0, 255] en une torche.\n",
    "# Tensoriseur de forme (C x H x W) compris dans l'intervalle [0.0, 1.0].\n"
   ]
  },
  {
   "cell_type": "code",
   "execution_count": null,
   "metadata": {},
   "outputs": [],
   "source": []
  },
  {
   "cell_type": "code",
   "execution_count": 16,
   "metadata": {},
   "outputs": [],
   "source": [
    "#== creation du modele\n",
    "\n",
    "class AE(nn.Module):\n",
    "    def __init__(self):\n",
    "        super(AE, self).__init__()\n",
    "        \n",
    "# ENCODEUR \n",
    "# 28 x 28 pixels = 784 pixels en entrée, 400 sorties\n",
    "# couche unitaire linéaire rectifiée de 400 à 400 \n",
    "\n",
    "        self.encoder = nn.Sequential(\n",
    "            nn.Linear(784,400),\n",
    "            nn.ReLU(),\n",
    "            \n",
    "            nn.Linear(400,128),\n",
    "            nn.ReLU(),\n",
    "            \n",
    "            nn.Linear(128,64),\n",
    "            nn.ReLU(),\n",
    "            \n",
    "            nn.Linear(64,32) # espace latent = couche cachee\n",
    "            )\n",
    "\n",
    "# DECODEUR \n",
    "# de goulot d' étranglement à 400 caché\n",
    "# on fait le travail autre-sens\n",
    "    \n",
    "        self.decoder = nn.Sequential(\n",
    "            nn.Linear(32,64),\n",
    "            nn.ReLU(),\n",
    "            \n",
    "            nn.Linear(64,128),\n",
    "            nn.ReLU(),\n",
    "            \n",
    "            nn.Linear(128,400),\n",
    "            nn.ReLU(),\n",
    "            \n",
    "            nn.Linear(400,784),\n",
    "            )\n",
    "\n",
    "        # create using nn.Sequential()\n",
    "        # encoder :FullyConnected (784 -> 400), RELU activation; FC (400, 20)\n",
    "        # decoder :FullyConnected (20 -> 400), RELU activation; FC (400, 784)\n",
    "        \n",
    "\n",
    "    def encode(self, x):\n",
    "        return self.encoder(x)\n",
    "\n",
    "    def decode(self, z):\n",
    "        return torch.sigmoid(self.decoder(z))\n",
    "\n",
    "    def forward(self, x):\n",
    "        xview = x.view((-1, 784))\n",
    "        z = self.encode(xview)\n",
    "        return self.decode(z)\n",
    "\n",
    "model = AE().to(device)\n",
    "#optimizer = optim.Adam(model.parameters(), lr=1e-3)\n",
    "optimizer = optim.Adam(model.parameters(), lr=1e-3, betas=(0.9, 0.999), eps=1e-06)\n",
    "\n"
   ]
  },
  {
   "cell_type": "code",
   "execution_count": 17,
   "metadata": {},
   "outputs": [],
   "source": [
    "# https://docs.scipy.org/doc/numpy-1.13.0/reference/generated/numpy.ndarray.view.html\n",
    "# otimizer utilise = adam"
   ]
  },
  {
   "cell_type": "code",
   "execution_count": 18,
   "metadata": {},
   "outputs": [],
   "source": [
    "def loss_function(recon_batch, x):\n",
    "    \n",
    "    # compute bce as the binary cross entropy across the batch as a sum\n",
    "    # L'entrée est binarisée et Binary Cross Entropy a été utilisé comme fonction de perte.\n",
    "    # dans quelle mesure l'entrée x et la sortie recon_x sont-elles d'accord?\n",
    "    \n",
    "    loss = torch.nn.BCELoss(reduction='sum')\n",
    "    return loss(recon_batch, x)"
   ]
  },
  {
   "cell_type": "code",
   "execution_count": 19,
   "metadata": {},
   "outputs": [],
   "source": [
    "losses = []\n",
    "\n",
    "def train(epoch):\n",
    "    model.train()\n",
    "    train_loss = 0\n",
    "    \n",
    "    for batch_idx, (data, _) in enumerate(train_loader):\n",
    "        data = data.to(device)\n",
    "        optimizer.zero_grad()\n",
    "        recon_batch = model(data)\n",
    "        loss = loss_function(recon_batch, data.view(-1,784))\n",
    "        losses.append(loss.cpu().item())\n",
    "        loss.backward()\n",
    "        train_loss += loss.item()\n",
    "        optimizer.step()\n",
    "        if batch_idx % loginterval == 0:\n",
    "            print('\\r Train Epoch: {} [{}/{} ({:.0f}%)]\\tLoss: {:.1f}'.format(\n",
    "                epoch, batch_idx * len(data), len(train_loader.dataset),\n",
    "                100. * batch_idx / len(train_loader),\n",
    "                loss.item() / len(data)), end='')\n",
    "\n",
    "    print(' Average loss: {:.1f}'.format(\n",
    "          train_loss / len(train_loader.dataset)), end='')"
   ]
  },
  {
   "cell_type": "code",
   "execution_count": 20,
   "metadata": {},
   "outputs": [],
   "source": [
    "def test(epoch):\n",
    "    model.eval()\n",
    "    test_loss = 0\n",
    "    \n",
    "    with torch.no_grad():\n",
    "        for i, (data, _) in enumerate(test_loader):\n",
    "            data = data.to(device)\n",
    "            recon_batch = model(data)\n",
    "            test_loss += loss_function(recon_batch, data.view(-1, 784))\n",
    "\n",
    "            if i == 0:\n",
    "                n = min(data.size(0), 8)\n",
    "                comparison = torch.cat([data[:n],\n",
    "                                      recon_batch.view(batchsize, 1, 28, 28)[:n]])\n",
    "                save_image(comparison.cpu(),\n",
    "                         'results/reconstruction_' + str(epoch) + '.png', nrow=n)\n",
    "\n",
    "    test_loss /= len(test_loader.dataset)\n",
    "    print(' Test loss: {:.1f}'.format(test_loss))"
   ]
  },
  {
   "cell_type": "code",
   "execution_count": 21,
   "metadata": {},
   "outputs": [],
   "source": [
    "# results/reconstruction = les images sont reconstruites et images stockees ds le fichier "
   ]
  },
  {
   "cell_type": "code",
   "execution_count": 22,
   "metadata": {
    "scrolled": true
   },
   "outputs": [
    {
     "name": "stdout",
     "output_type": "stream",
     "text": [
      " Train Epoch: 1 [58880/60000 (98%)]\tLoss: 133.4 Average loss: 183.1 Test loss: 133.4\n",
      " Train Epoch: 2 [58880/60000 (98%)]\tLoss: 105.2 Average loss: 120.1 Test loss: 110.8\n",
      " Train Epoch: 3 [58880/60000 (98%)]\tLoss: 106.9 Average loss: 106.0 Test loss: 101.1\n",
      " Train Epoch: 4 [58880/60000 (98%)]\tLoss: 88.0 Average loss: 98.2 Test loss: 94.4\n",
      " Train Epoch: 5 [58880/60000 (98%)]\tLoss: 91.5 Average loss: 93.0 Test loss: 90.7\n",
      " Train Epoch: 6 [58880/60000 (98%)]\tLoss: 89.7 Average loss: 89.0 Test loss: 87.2\n",
      " Train Epoch: 7 [58880/60000 (98%)]\tLoss: 82.1 Average loss: 86.0 Test loss: 84.6\n",
      " Train Epoch: 8 [58880/60000 (98%)]\tLoss: 87.2 Average loss: 83.3 Test loss: 81.6\n",
      " Train Epoch: 9 [58880/60000 (98%)]\tLoss: 81.9 Average loss: 80.9 Test loss: 79.6\n",
      " Train Epoch: 10 [58880/60000 (98%)]\tLoss: 77.8 Average loss: 79.2 Test loss: 78.7\n",
      " Train Epoch: 11 [58880/60000 (98%)]\tLoss: 76.5 Average loss: 77.9 Test loss: 77.4\n",
      " Train Epoch: 12 [58880/60000 (98%)]\tLoss: 77.4 Average loss: 76.9 Test loss: 76.5\n",
      " Train Epoch: 13 [58880/60000 (98%)]\tLoss: 77.2 Average loss: 76.0 Test loss: 76.0\n",
      " Train Epoch: 14 [58880/60000 (98%)]\tLoss: 75.7 Average loss: 75.1 Test loss: 75.1\n",
      " Train Epoch: 15 [58880/60000 (98%)]\tLoss: 72.9 Average loss: 74.2 Test loss: 73.9\n",
      " Train Epoch: 16 [58880/60000 (98%)]\tLoss: 69.2 Average loss: 73.4 Test loss: 73.2\n",
      " Train Epoch: 17 [58880/60000 (98%)]\tLoss: 71.4 Average loss: 72.6 Test loss: 73.1\n",
      " Train Epoch: 18 [58880/60000 (98%)]\tLoss: 69.9 Average loss: 71.9 Test loss: 72.2\n",
      " Train Epoch: 19 [58880/60000 (98%)]\tLoss: 70.0 Average loss: 71.3 Test loss: 71.5\n",
      " Train Epoch: 20 [58880/60000 (98%)]\tLoss: 70.4 Average loss: 70.9 Test loss: 71.1\n",
      " Train Epoch: 21 [58880/60000 (98%)]\tLoss: 71.6 Average loss: 70.3 Test loss: 70.9\n",
      " Train Epoch: 22 [58880/60000 (98%)]\tLoss: 66.8 Average loss: 69.9 Test loss: 70.2\n",
      " Train Epoch: 23 [58880/60000 (98%)]\tLoss: 65.4 Average loss: 69.5 Test loss: 69.9\n",
      " Train Epoch: 24 [58880/60000 (98%)]\tLoss: 68.1 Average loss: 69.1 Test loss: 69.6\n",
      " Train Epoch: 25 [58880/60000 (98%)]\tLoss: 68.2 Average loss: 68.8 Test loss: 69.3\n",
      " Train Epoch: 26 [58880/60000 (98%)]\tLoss: 66.8 Average loss: 68.3 Test loss: 69.1\n",
      " Train Epoch: 27 [58880/60000 (98%)]\tLoss: 69.9 Average loss: 68.0 Test loss: 68.7\n",
      " Train Epoch: 28 [58880/60000 (98%)]\tLoss: 71.4 Average loss: 67.7 Test loss: 68.8\n",
      " Train Epoch: 29 [58880/60000 (98%)]\tLoss: 66.1 Average loss: 67.4 Test loss: 68.3\n",
      " Train Epoch: 30 [58880/60000 (98%)]\tLoss: 63.0 Average loss: 67.1 Test loss: 68.3\n",
      " Train Epoch: 31 [58880/60000 (98%)]\tLoss: 65.8 Average loss: 66.8 Test loss: 67.7\n",
      " Train Epoch: 32 [58880/60000 (98%)]\tLoss: 67.9 Average loss: 66.5 Test loss: 67.4\n",
      " Train Epoch: 33 [58880/60000 (98%)]\tLoss: 66.9 Average loss: 66.3 Test loss: 67.4\n",
      " Train Epoch: 34 [58880/60000 (98%)]\tLoss: 66.4 Average loss: 66.0 Test loss: 67.1\n",
      " Train Epoch: 35 [58880/60000 (98%)]\tLoss: 66.0 Average loss: 65.7 Test loss: 66.6\n",
      " Train Epoch: 36 [58880/60000 (98%)]\tLoss: 64.6 Average loss: 65.5 Test loss: 66.5\n",
      " Train Epoch: 37 [58880/60000 (98%)]\tLoss: 63.3 Average loss: 65.3 Test loss: 66.2\n",
      " Train Epoch: 38 [58880/60000 (98%)]\tLoss: 65.3 Average loss: 65.1 Test loss: 66.1\n",
      " Train Epoch: 39 [58880/60000 (98%)]\tLoss: 63.7 Average loss: 64.9 Test loss: 66.2\n",
      " Train Epoch: 40 [58880/60000 (98%)]\tLoss: 63.9 Average loss: 64.7 Test loss: 65.5\n",
      " Train Epoch: 41 [58880/60000 (98%)]\tLoss: 64.0 Average loss: 64.5 Test loss: 65.5\n",
      " Train Epoch: 42 [58880/60000 (98%)]\tLoss: 65.7 Average loss: 64.4 Test loss: 65.6\n",
      " Train Epoch: 43 [58880/60000 (98%)]\tLoss: 62.2 Average loss: 64.2 Test loss: 65.4\n",
      " Train Epoch: 44 [58880/60000 (98%)]\tLoss: 63.0 Average loss: 64.1 Test loss: 65.1\n",
      " Train Epoch: 45 [58880/60000 (98%)]\tLoss: 65.8 Average loss: 64.0 Test loss: 65.0\n",
      " Train Epoch: 46 [58880/60000 (98%)]\tLoss: 64.1 Average loss: 63.8 Test loss: 65.1\n",
      " Train Epoch: 47 [58880/60000 (98%)]\tLoss: 63.1 Average loss: 63.7 Test loss: 64.6\n",
      " Train Epoch: 48 [58880/60000 (98%)]\tLoss: 64.4 Average loss: 63.5 Test loss: 64.6\n",
      " Train Epoch: 49 [58880/60000 (98%)]\tLoss: 65.7 Average loss: 63.4 Test loss: 64.5\n",
      " Train Epoch: 50 [58880/60000 (98%)]\tLoss: 63.3 Average loss: 63.2 Test loss: 64.3\n",
      " Train Epoch: 51 [58880/60000 (98%)]\tLoss: 64.7 Average loss: 63.1 Test loss: 64.4\n",
      " Train Epoch: 52 [58880/60000 (98%)]\tLoss: 63.4 Average loss: 63.0 Test loss: 64.2\n",
      " Train Epoch: 53 [58880/60000 (98%)]\tLoss: 66.3 Average loss: 62.9 Test loss: 64.0\n",
      " Train Epoch: 54 [58880/60000 (98%)]\tLoss: 64.9 Average loss: 62.7 Test loss: 64.0\n",
      " Train Epoch: 55 [58880/60000 (98%)]\tLoss: 62.4 Average loss: 62.6 Test loss: 63.7\n",
      " Train Epoch: 56 [58880/60000 (98%)]\tLoss: 63.1 Average loss: 62.5 Test loss: 64.5\n",
      " Train Epoch: 57 [58880/60000 (98%)]\tLoss: 65.5 Average loss: 62.4 Test loss: 63.6\n",
      " Train Epoch: 58 [58880/60000 (98%)]\tLoss: 61.6 Average loss: 62.3 Test loss: 63.4\n",
      " Train Epoch: 59 [58880/60000 (98%)]\tLoss: 62.1 Average loss: 62.2 Test loss: 63.5\n",
      " Train Epoch: 60 [58880/60000 (98%)]\tLoss: 63.9 Average loss: 62.0 Test loss: 63.1\n",
      " Train Epoch: 61 [58880/60000 (98%)]\tLoss: 58.9 Average loss: 62.0 Test loss: 63.3\n",
      " Train Epoch: 62 [58880/60000 (98%)]\tLoss: 65.1 Average loss: 61.9 Test loss: 63.1\n",
      " Train Epoch: 63 [58880/60000 (98%)]\tLoss: 59.0 Average loss: 61.7 Test loss: 62.9\n",
      " Train Epoch: 64 [58880/60000 (98%)]\tLoss: 59.3 Average loss: 61.6 Test loss: 62.6\n",
      " Train Epoch: 65 [58880/60000 (98%)]\tLoss: 60.9 Average loss: 61.6 Test loss: 62.8\n",
      " Train Epoch: 66 [58880/60000 (98%)]\tLoss: 58.9 Average loss: 61.4 Test loss: 62.6\n",
      " Train Epoch: 67 [58880/60000 (98%)]\tLoss: 61.9 Average loss: 61.4 Test loss: 62.2\n",
      " Train Epoch: 68 [58880/60000 (98%)]\tLoss: 60.5 Average loss: 61.3 Test loss: 62.3\n",
      " Train Epoch: 69 [58880/60000 (98%)]\tLoss: 59.6 Average loss: 61.2 Test loss: 62.3\n",
      " Train Epoch: 70 [58880/60000 (98%)]\tLoss: 61.3 Average loss: 61.1 Test loss: 62.4\n",
      " Train Epoch: 71 [58880/60000 (98%)]\tLoss: 62.4 Average loss: 61.0 Test loss: 62.4\n",
      " Train Epoch: 72 [58880/60000 (98%)]\tLoss: 60.7 Average loss: 60.9 Test loss: 62.4\n",
      " Train Epoch: 73 [58880/60000 (98%)]\tLoss: 61.1 Average loss: 60.9 Test loss: 61.9\n",
      " Train Epoch: 74 [58880/60000 (98%)]\tLoss: 58.5 Average loss: 60.8 Test loss: 61.9\n",
      " Train Epoch: 75 [58880/60000 (98%)]\tLoss: 60.0 Average loss: 60.7 Test loss: 61.9\n",
      " Train Epoch: 76 [58880/60000 (98%)]\tLoss: 59.7 Average loss: 60.7 Test loss: 62.0\n",
      " Train Epoch: 77 [58880/60000 (98%)]\tLoss: 59.5 Average loss: 60.6 Test loss: 61.7\n",
      " Train Epoch: 78 [58880/60000 (98%)]\tLoss: 59.2 Average loss: 60.5 Test loss: 61.7\n",
      " Train Epoch: 79 [58880/60000 (98%)]\tLoss: 63.6 Average loss: 60.4 Test loss: 61.6\n",
      " Train Epoch: 80 [58880/60000 (98%)]\tLoss: 59.4 Average loss: 60.4 Test loss: 61.5\n",
      " Train Epoch: 81 [58880/60000 (98%)]\tLoss: 57.7 Average loss: 60.3 Test loss: 61.7\n",
      " Train Epoch: 82 [58880/60000 (98%)]\tLoss: 57.2 Average loss: 60.2 Test loss: 61.3\n",
      " Train Epoch: 83 [58880/60000 (98%)]\tLoss: 62.3 Average loss: 60.2 Test loss: 61.4\n",
      " Train Epoch: 84 [58880/60000 (98%)]\tLoss: 60.6 Average loss: 60.1 Test loss: 61.2\n",
      " Train Epoch: 85 [58880/60000 (98%)]\tLoss: 61.5 Average loss: 60.0 Test loss: 61.1\n",
      " Train Epoch: 86 [58880/60000 (98%)]\tLoss: 61.3 Average loss: 60.0 Test loss: 61.3\n",
      " Train Epoch: 87 [58880/60000 (98%)]\tLoss: 60.1 Average loss: 60.0 Test loss: 61.1\n",
      " Train Epoch: 88 [58880/60000 (98%)]\tLoss: 60.9 Average loss: 59.9 Test loss: 61.0\n",
      " Train Epoch: 89 [58880/60000 (98%)]\tLoss: 60.4 Average loss: 59.8 Test loss: 61.3\n",
      " Train Epoch: 90 [58880/60000 (98%)]\tLoss: 59.9 Average loss: 59.8 Test loss: 61.1\n",
      " Train Epoch: 91 [58880/60000 (98%)]\tLoss: 59.6 Average loss: 59.7 Test loss: 60.9\n",
      " Train Epoch: 92 [58880/60000 (98%)]\tLoss: 60.3 Average loss: 59.7 Test loss: 61.4\n",
      " Train Epoch: 93 [58880/60000 (98%)]\tLoss: 58.1 Average loss: 59.7 Test loss: 60.9\n",
      " Train Epoch: 94 [58880/60000 (98%)]\tLoss: 60.0 Average loss: 59.6 Test loss: 61.0\n",
      " Train Epoch: 95 [58880/60000 (98%)]\tLoss: 58.7 Average loss: 59.5 Test loss: 60.9\n",
      " Train Epoch: 96 [58880/60000 (98%)]\tLoss: 61.2 Average loss: 59.5 Test loss: 60.8\n",
      " Train Epoch: 97 [58880/60000 (98%)]\tLoss: 61.9 Average loss: 59.4 Test loss: 61.0\n",
      " Train Epoch: 98 [58880/60000 (98%)]\tLoss: 58.8 Average loss: 59.4 Test loss: 60.8\n"
     ]
    },
    {
     "name": "stdout",
     "output_type": "stream",
     "text": [
      " Train Epoch: 99 [58880/60000 (98%)]\tLoss: 58.2 Average loss: 59.3 Test loss: 60.5\n",
      " Train Epoch: 100 [58880/60000 (98%)]\tLoss: 61.2 Average loss: 59.3 Test loss: 60.9\n",
      " Train Epoch: 101 [58880/60000 (98%)]\tLoss: 59.4 Average loss: 59.2 Test loss: 60.6\n",
      " Train Epoch: 102 [58880/60000 (98%)]\tLoss: 58.6 Average loss: 59.2 Test loss: 60.5\n",
      " Train Epoch: 103 [58880/60000 (98%)]\tLoss: 61.3 Average loss: 59.1 Test loss: 60.4\n",
      " Train Epoch: 104 [58880/60000 (98%)]\tLoss: 62.3 Average loss: 59.1 Test loss: 60.3\n",
      " Train Epoch: 105 [58880/60000 (98%)]\tLoss: 58.4 Average loss: 59.1 Test loss: 60.2\n",
      " Train Epoch: 106 [58880/60000 (98%)]\tLoss: 59.3 Average loss: 59.1 Test loss: 60.6\n",
      " Train Epoch: 107 [58880/60000 (98%)]\tLoss: 57.8 Average loss: 59.0 Test loss: 60.3\n",
      " Train Epoch: 108 [58880/60000 (98%)]\tLoss: 60.0 Average loss: 58.9 Test loss: 60.5\n",
      " Train Epoch: 109 [58880/60000 (98%)]\tLoss: 58.4 Average loss: 59.0 Test loss: 60.4\n",
      " Train Epoch: 110 [58880/60000 (98%)]\tLoss: 60.6 Average loss: 58.9 Test loss: 60.3\n",
      " Train Epoch: 111 [58880/60000 (98%)]\tLoss: 60.7 Average loss: 58.8 Test loss: 60.1\n",
      " Train Epoch: 112 [58880/60000 (98%)]\tLoss: 58.3 Average loss: 58.8 Test loss: 59.9\n",
      " Train Epoch: 113 [58880/60000 (98%)]\tLoss: 56.0 Average loss: 58.7 Test loss: 60.3\n",
      " Train Epoch: 114 [58880/60000 (98%)]\tLoss: 56.3 Average loss: 58.7 Test loss: 59.8\n",
      " Train Epoch: 115 [58880/60000 (98%)]\tLoss: 59.8 Average loss: 58.7 Test loss: 60.1\n",
      " Train Epoch: 116 [58880/60000 (98%)]\tLoss: 57.9 Average loss: 58.6 Test loss: 59.9\n",
      " Train Epoch: 117 [58880/60000 (98%)]\tLoss: 57.8 Average loss: 58.6 Test loss: 60.1\n",
      " Train Epoch: 118 [58880/60000 (98%)]\tLoss: 58.9 Average loss: 58.6 Test loss: 60.2\n",
      " Train Epoch: 119 [58880/60000 (98%)]\tLoss: 58.2 Average loss: 58.6 Test loss: 60.0\n",
      " Train Epoch: 120 [58880/60000 (98%)]\tLoss: 58.8 Average loss: 58.5 Test loss: 59.8\n",
      " Train Epoch: 121 [58880/60000 (98%)]\tLoss: 60.1 Average loss: 58.5 Test loss: 59.7\n",
      " Train Epoch: 122 [58880/60000 (98%)]\tLoss: 61.5 Average loss: 58.5 Test loss: 59.9\n",
      " Train Epoch: 123 [58880/60000 (98%)]\tLoss: 59.6 Average loss: 58.4 Test loss: 59.7\n",
      " Train Epoch: 124 [58880/60000 (98%)]\tLoss: 55.8 Average loss: 58.4 Test loss: 59.8\n",
      " Train Epoch: 125 [58880/60000 (98%)]\tLoss: 60.2 Average loss: 58.4 Test loss: 59.8\n",
      " Train Epoch: 126 [58880/60000 (98%)]\tLoss: 57.9 Average loss: 58.3 Test loss: 59.8\n",
      " Train Epoch: 127 [58880/60000 (98%)]\tLoss: 60.1 Average loss: 58.3 Test loss: 59.7\n",
      " Train Epoch: 128 [58880/60000 (98%)]\tLoss: 59.3 Average loss: 58.3 Test loss: 59.5\n",
      " Train Epoch: 129 [58880/60000 (98%)]\tLoss: 56.3 Average loss: 58.3 Test loss: 59.7\n",
      " Train Epoch: 130 [58880/60000 (98%)]\tLoss: 59.2 Average loss: 58.2 Test loss: 59.6\n",
      " Train Epoch: 131 [58880/60000 (98%)]\tLoss: 56.5 Average loss: 58.2 Test loss: 59.5\n",
      " Train Epoch: 132 [58880/60000 (98%)]\tLoss: 59.4 Average loss: 58.2 Test loss: 59.8\n",
      " Train Epoch: 133 [58880/60000 (98%)]\tLoss: 57.8 Average loss: 58.2 Test loss: 59.6\n",
      " Train Epoch: 134 [58880/60000 (98%)]\tLoss: 58.0 Average loss: 58.1 Test loss: 59.6\n",
      " Train Epoch: 135 [58880/60000 (98%)]\tLoss: 58.9 Average loss: 58.1 Test loss: 59.5\n",
      " Train Epoch: 136 [58880/60000 (98%)]\tLoss: 59.9 Average loss: 58.1 Test loss: 59.3\n",
      " Train Epoch: 137 [58880/60000 (98%)]\tLoss: 58.2 Average loss: 58.0 Test loss: 59.7\n",
      " Train Epoch: 138 [58880/60000 (98%)]\tLoss: 57.3 Average loss: 58.0 Test loss: 59.4\n",
      " Train Epoch: 139 [58880/60000 (98%)]\tLoss: 58.1 Average loss: 57.9 Test loss: 59.6\n",
      " Train Epoch: 140 [58880/60000 (98%)]\tLoss: 57.6 Average loss: 58.0 Test loss: 59.2\n",
      " Train Epoch: 141 [58880/60000 (98%)]\tLoss: 59.5 Average loss: 57.9 Test loss: 59.3\n",
      " Train Epoch: 142 [58880/60000 (98%)]\tLoss: 57.7 Average loss: 57.9 Test loss: 59.3\n",
      " Train Epoch: 143 [58880/60000 (98%)]\tLoss: 57.0 Average loss: 57.9 Test loss: 59.1\n",
      " Train Epoch: 144 [58880/60000 (98%)]\tLoss: 56.3 Average loss: 57.8 Test loss: 59.2\n",
      " Train Epoch: 145 [58880/60000 (98%)]\tLoss: 60.4 Average loss: 57.8 Test loss: 59.4\n",
      " Train Epoch: 146 [58880/60000 (98%)]\tLoss: 57.8 Average loss: 57.8 Test loss: 59.3\n",
      " Train Epoch: 147 [58880/60000 (98%)]\tLoss: 56.6 Average loss: 57.8 Test loss: 59.1\n",
      " Train Epoch: 148 [58880/60000 (98%)]\tLoss: 57.7 Average loss: 57.8 Test loss: 59.2\n",
      " Train Epoch: 149 [58880/60000 (98%)]\tLoss: 60.2 Average loss: 57.7 Test loss: 58.9\n",
      " Train Epoch: 150 [58880/60000 (98%)]\tLoss: 57.4 Average loss: 57.7 Test loss: 59.4\n",
      " Train Epoch: 151 [58880/60000 (98%)]\tLoss: 57.5 Average loss: 57.7 Test loss: 58.9\n",
      " Train Epoch: 152 [58880/60000 (98%)]\tLoss: 59.1 Average loss: 57.6 Test loss: 59.0\n",
      " Train Epoch: 153 [58880/60000 (98%)]\tLoss: 55.5 Average loss: 57.6 Test loss: 59.1\n",
      " Train Epoch: 154 [58880/60000 (98%)]\tLoss: 57.1 Average loss: 57.6 Test loss: 58.8\n",
      " Train Epoch: 155 [58880/60000 (98%)]\tLoss: 56.2 Average loss: 57.6 Test loss: 58.8\n",
      " Train Epoch: 156 [58880/60000 (98%)]\tLoss: 58.6 Average loss: 57.6 Test loss: 58.8\n",
      " Train Epoch: 157 [58880/60000 (98%)]\tLoss: 55.8 Average loss: 57.5 Test loss: 58.8\n",
      " Train Epoch: 158 [58880/60000 (98%)]\tLoss: 57.1 Average loss: 57.5 Test loss: 59.1\n",
      " Train Epoch: 159 [58880/60000 (98%)]\tLoss: 56.9 Average loss: 57.5 Test loss: 58.8\n",
      " Train Epoch: 160 [58880/60000 (98%)]\tLoss: 55.7 Average loss: 57.5 Test loss: 59.3\n",
      " Train Epoch: 161 [58880/60000 (98%)]\tLoss: 56.9 Average loss: 57.4 Test loss: 58.9\n",
      " Train Epoch: 162 [58880/60000 (98%)]\tLoss: 57.7 Average loss: 57.4 Test loss: 58.7\n",
      " Train Epoch: 163 [58880/60000 (98%)]\tLoss: 59.3 Average loss: 57.4 Test loss: 58.8\n",
      " Train Epoch: 164 [58880/60000 (98%)]\tLoss: 59.2 Average loss: 57.4 Test loss: 59.0\n",
      " Train Epoch: 165 [58880/60000 (98%)]\tLoss: 57.7 Average loss: 57.4 Test loss: 58.8\n",
      " Train Epoch: 166 [58880/60000 (98%)]\tLoss: 56.3 Average loss: 57.4 Test loss: 58.7\n",
      " Train Epoch: 167 [58880/60000 (98%)]\tLoss: 57.3 Average loss: 57.3 Test loss: 58.9\n",
      " Train Epoch: 168 [58880/60000 (98%)]\tLoss: 54.3 Average loss: 57.3 Test loss: 58.9\n",
      " Train Epoch: 169 [58880/60000 (98%)]\tLoss: 58.5 Average loss: 57.3 Test loss: 58.7\n",
      " Train Epoch: 170 [58880/60000 (98%)]\tLoss: 58.6 Average loss: 57.3 Test loss: 58.7\n",
      " Train Epoch: 171 [58880/60000 (98%)]\tLoss: 58.3 Average loss: 57.2 Test loss: 58.6\n",
      " Train Epoch: 172 [58880/60000 (98%)]\tLoss: 58.2 Average loss: 57.2 Test loss: 58.4\n",
      " Train Epoch: 173 [58880/60000 (98%)]\tLoss: 55.4 Average loss: 57.2 Test loss: 58.7\n",
      " Train Epoch: 174 [58880/60000 (98%)]\tLoss: 57.6 Average loss: 57.2 Test loss: 58.5\n",
      " Train Epoch: 175 [58880/60000 (98%)]\tLoss: 61.4 Average loss: 57.2 Test loss: 58.6\n",
      " Train Epoch: 176 [58880/60000 (98%)]\tLoss: 57.4 Average loss: 57.2 Test loss: 58.4\n",
      " Train Epoch: 177 [58880/60000 (98%)]\tLoss: 56.3 Average loss: 57.2 Test loss: 58.7\n",
      " Train Epoch: 178 [58880/60000 (98%)]\tLoss: 56.9 Average loss: 57.2 Test loss: 58.5\n",
      " Train Epoch: 179 [58880/60000 (98%)]\tLoss: 57.1 Average loss: 57.1 Test loss: 58.5\n",
      " Train Epoch: 180 [58880/60000 (98%)]\tLoss: 57.6 Average loss: 57.1 Test loss: 58.5\n",
      " Train Epoch: 181 [58880/60000 (98%)]\tLoss: 55.6 Average loss: 57.1 Test loss: 58.5\n",
      " Train Epoch: 182 [58880/60000 (98%)]\tLoss: 57.5 Average loss: 57.1 Test loss: 58.4\n",
      " Train Epoch: 183 [58880/60000 (98%)]\tLoss: 58.9 Average loss: 57.1 Test loss: 58.6\n",
      " Train Epoch: 184 [58880/60000 (98%)]\tLoss: 57.8 Average loss: 57.1 Test loss: 58.5\n",
      " Train Epoch: 185 [58880/60000 (98%)]\tLoss: 56.7 Average loss: 57.0 Test loss: 58.4\n",
      " Train Epoch: 186 [58880/60000 (98%)]\tLoss: 57.3 Average loss: 57.1 Test loss: 58.6\n",
      " Train Epoch: 187 [58880/60000 (98%)]\tLoss: 55.1 Average loss: 57.0 Test loss: 58.3\n",
      " Train Epoch: 188 [58880/60000 (98%)]\tLoss: 58.1 Average loss: 57.0 Test loss: 58.5\n",
      " Train Epoch: 189 [58880/60000 (98%)]\tLoss: 57.9 Average loss: 57.0 Test loss: 59.0\n",
      " Train Epoch: 190 [58880/60000 (98%)]\tLoss: 57.3 Average loss: 57.0 Test loss: 58.3\n",
      " Train Epoch: 191 [58880/60000 (98%)]\tLoss: 56.8 Average loss: 56.9 Test loss: 58.4\n",
      " Train Epoch: 192 [58880/60000 (98%)]\tLoss: 57.4 Average loss: 56.9 Test loss: 58.3\n",
      " Train Epoch: 193 [58880/60000 (98%)]\tLoss: 55.0 Average loss: 57.0 Test loss: 58.3\n",
      " Train Epoch: 194 [58880/60000 (98%)]\tLoss: 56.3 Average loss: 57.0 Test loss: 58.4\n",
      " Train Epoch: 195 [58880/60000 (98%)]\tLoss: 58.1 Average loss: 56.9 Test loss: 58.4\n"
     ]
    },
    {
     "name": "stdout",
     "output_type": "stream",
     "text": [
      " Train Epoch: 196 [58880/60000 (98%)]\tLoss: 56.9 Average loss: 56.9 Test loss: 58.3\n",
      " Train Epoch: 197 [58880/60000 (98%)]\tLoss: 53.8 Average loss: 56.9 Test loss: 58.3\n",
      " Train Epoch: 198 [58880/60000 (98%)]\tLoss: 56.4 Average loss: 56.9 Test loss: 58.4\n",
      " Train Epoch: 199 [58880/60000 (98%)]\tLoss: 57.0 Average loss: 56.9 Test loss: 58.3\n",
      " Train Epoch: 200 [58880/60000 (98%)]\tLoss: 57.6 Average loss: 56.8 Test loss: 58.2\n"
     ]
    }
   ],
   "source": [
    "for epoch in range(1, epochs + 1):\n",
    "    train(epoch)\n",
    "    test(epoch)\n",
    "    \n",
    "# digits in latent space\n",
    "# enregistrer en tant que matrice 8 × 8 = 64 de MNIST chiffres    \n",
    "    with torch.no_grad():\n",
    "     #sample = torch.randn(64, 20).to(device)\n",
    "     sample = torch.randn(64, 32).to(device)\n",
    "     sample = model.decode(sample).cpu()\n",
    "     save_image(sample.view(64, 1, 28, 28), 'results/sample_' + str(epoch) + '.png')"
   ]
  },
  {
   "cell_type": "code",
   "execution_count": 23,
   "metadata": {},
   "outputs": [],
   "source": [
    "#== ARCHITECTURE 1 \n",
    "# controle de results\n",
    "# dans fichier results : 200 images codees + 200 images decodees pour\n",
    "# 200 epochs\n",
    "# sur chaque image (suite de 8 chiffres encodes > 8  chiffres decodes)\n",
    "\n",
    "# La rangée supérieure correspond aux chiffres d'origine et \n",
    "# la rangée inférieure aux chiffres reconstruits. \n",
    "# Nous perdons pas mal de détails avec cette approche de base.\n",
    "\n",
    "#== ARCHITECTURE 2\n",
    "# le contrôle des images des chiffres reconstruits, montre qu'avec l'architecture 2, \n",
    "# les chiffres reconstruits sont \"un peu meilleurs\" (aligne avec loss = 57.9%)\n",
    "\n",
    "#== ARCHITECTURE 3\n",
    "# loss = 62.5% - test\n",
    "\n",
    "#== ARCHICTECTURE 4 \n",
    "# loss = 58.2% - test"
   ]
  },
  {
   "cell_type": "code",
   "execution_count": 24,
   "metadata": {},
   "outputs": [
    {
     "data": {
      "text/plain": [
       "[<matplotlib.lines.Line2D at 0x7f4c001e3c50>]"
      ]
     },
     "execution_count": 24,
     "metadata": {},
     "output_type": "execute_result"
    },
    {
     "data": {
      "image/png": "[encoded data removed]",
      "text/plain": [
       "<Figure size 432x288 with 1 Axes>"
      ]
     },
     "metadata": {
      "needs_background": "light"
     },
     "output_type": "display_data"
    }
   ],
   "source": [
    "#plot losses\n",
    "plt.plot(losses)"
   ]
  },
  {
   "cell_type": "code",
   "execution_count": null,
   "metadata": {},
   "outputs": [],
   "source": []
  },
  {
   "cell_type": "code",
   "execution_count": 25,
   "metadata": {},
   "outputs": [
    {
     "name": "stdout",
     "output_type": "stream",
     "text": [
      "Temps d execution : 414.5 secondes ---\n"
     ]
    }
   ],
   "source": [
    "# Affichage du temps d execution\n",
    "print(\"Temps d execution : %s secondes ---\" % round((time.time() - start_time),1))"
   ]
  },
  {
   "cell_type": "code",
   "execution_count": 26,
   "metadata": {},
   "outputs": [],
   "source": [
    "# ANALYSE :\n",
    "# architecture 1 = 5 mn avec 1 geforce gtx1080\n",
    "# architecture 2 ~ 6.76 mn\n",
    "# architecture 3 ~ 7.56 mn\n",
    "# architecture 4 ~ 6.90 mn"
   ]
  }
 ],
 "metadata": {
  "kernelspec": {
   "display_name": "Python 3",
   "language": "python",
   "name": "python3"
  },
  "language_info": {
   "codemirror_mode": {
    "name": "ipython",
    "version": 3
   },
   "file_extension": ".py",
   "mimetype": "text/x-python",
   "name": "python",
   "nbconvert_exporter": "python",
   "pygments_lexer": "ipython3",
   "version": "3.6.7"
  }
 },
 "nbformat": 4,
 "nbformat_minor": 2
}
